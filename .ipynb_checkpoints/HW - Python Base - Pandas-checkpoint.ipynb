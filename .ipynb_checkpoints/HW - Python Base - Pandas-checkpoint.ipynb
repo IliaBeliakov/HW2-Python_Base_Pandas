{
 "cells": [
  {
   "cell_type": "markdown",
   "id": "0e5e9ab9",
   "metadata": {},
   "source": [
    "# Домашнее задание 3"
   ]
  },
  {
   "cell_type": "markdown",
   "id": "ad4745f6",
   "metadata": {},
   "source": [
    "## ЗАДАЧА\n",
    "В приложенных файлах вы увидите данные по прохождению студентами тестов на образовательной платформе. Такие данные могут быть использованы для построения персонализированных ИИ-ассистентов для поддержки обучения студента. На текущем этапе сосредоточимся на начальном этапе — сборе и подготовке данных."
   ]
  },
  {
   "cell_type": "markdown",
   "id": "65a0b66c",
   "metadata": {},
   "source": [
    "## ВАМ НЕОБХОДИМО\n",
    "Используя библиотеку pandas (или аналоги), проанализировать как можно больше характеристик, влияющих на успеваемость студентов."
   ]
  },
  {
   "cell_type": "markdown",
   "id": "5ec0708a",
   "metadata": {},
   "source": [
    "## ОПИСАНИЕ ДАННЫХ\n",
    "Для выполнения задания вам необходимы файлы train.csv, lectures.csv, questions.csv.\n",
    "\n",
    "TRAIN.CSV\n",
    "* row_id: (int64) ID code for the row.\n",
    "* timestamp: (int64) the time in milliseconds between this user interaction and the first event completion from that user.\n",
    "* user_id: (int32) ID code for the user.\n",
    "* content_id: (int16) ID code for the user interaction\n",
    "* content_type_id: (int8) 0 if the event was a question being posed to the user, 1 if the event was the user watching a lecture.\n",
    "* task_container_id: (int16) Id code for the batch of questions or lectures. For example, a user might see three questions in a row before seeing the explanations for any of them. Those three would all share a task_container_id.\n",
    "* user_answer: (int8) the user's answer to the question, if any. Read -1 as null, for lectures.\n",
    "* answered_correctly: (int8) if the user responded correctly. Read -1 as null, for lectures.\n",
    "* prior_question_elapsed_time: (float32) The average time in milliseconds it took a user to answer each question in the previous question bundle, ignoring any lectures in between. Is null for a user's first question bundle or lecture. Note that the time is the average time a user took to solve each question in the previous bundle.\n",
    "* prior_question_had_explanation: (bool) Whether or not the user saw an explanation and the correct response(s) after answering the previous question bundle, ignoring any lectures in between. The value is shared across a single question bundle, and is null for a user's first question bundle or lecture. Typically the first several questions a user sees were part of an onboarding diagnostic test where they did not get any feedback.\n",
    " \n",
    "\n",
    "QUESTIONS.CSV: METADATA FOR THE QUESTIONS POSED TO USERS.\n",
    "* question_id: foreign key for the train/test content_id column, when the content type is question (0).\n",
    "* bundle_id: code for which questions are served together.\n",
    "* correct_answer: the answer to the question. Can be compared with the train user_answer column to check if the user was right.\n",
    "* part: the relevant section of the TOEIC test.\n",
    "* tags: one or more detailed tag codes for the question. The meaning of the tags will not be provided, but these codes are sufficient for clustering the questions together.\n",
    " \n",
    "\n",
    "LECTURES.CSV: METADATA FOR THE LECTURES WATCHED BY USERS AS THEY PROGRESS IN THEIR EDUCATION.\n",
    "* lecture_id: foreign key for the train/test content_id column, when the content type is lecture (1).\n",
    "* part: top level category code for the lecture.\n",
    "* tag: one tag codes for the lecture. The meaning of the tags will not be provided, but these codes are sufficient for clustering the lectures together.\n",
    "* type_of: brief description of the core purpose of the lecture."
   ]
  },
  {
   "cell_type": "markdown",
   "id": "27ff7fab",
   "metadata": {},
   "source": [
    "## Шесть шагов для создания успешной модели машинного обучения\n",
    "* Уточните назначение модели.\n",
    "* Задайте необходимые критерии.\n",
    "* Идеальные новые функции.\n",
    "* Стройте функции как входные данные.\n",
    "* Изучите влияние.\n",
    "* Уточните функции."
   ]
  },
  {
   "cell_type": "code",
   "execution_count": 1,
   "id": "47998225",
   "metadata": {},
   "outputs": [],
   "source": [
    "import pandas as pd\n",
    "import numpy as np\n",
    "import matplotlib.pyplot as plt\n",
    "import seaborn as sns\n",
    "import time"
   ]
  },
  {
   "cell_type": "code",
   "execution_count": 66,
   "id": "626932e0",
   "metadata": {},
   "outputs": [
    {
     "name": "stdout",
     "output_type": "stream",
     "text": [
      "52.14180612564087\n"
     ]
    }
   ],
   "source": [
    "start = time.time()\n",
    "df_train = pd.read_csv('data/train.csv')\n",
    "end = time.time()\n",
    "print(end-start)"
   ]
  },
  {
   "cell_type": "markdown",
   "id": "3ecf19c9",
   "metadata": {},
   "source": [
    "Вывод: датасет очень большой и загружается в память почти 50 сек"
   ]
  },
  {
   "cell_type": "code",
   "execution_count": 67,
   "id": "f9d5b0c1",
   "metadata": {
    "scrolled": true
   },
   "outputs": [
    {
     "data": {
      "text/html": [
       "<div>\n",
       "<style scoped>\n",
       "    .dataframe tbody tr th:only-of-type {\n",
       "        vertical-align: middle;\n",
       "    }\n",
       "\n",
       "    .dataframe tbody tr th {\n",
       "        vertical-align: top;\n",
       "    }\n",
       "\n",
       "    .dataframe thead th {\n",
       "        text-align: right;\n",
       "    }\n",
       "</style>\n",
       "<table border=\"1\" class=\"dataframe\">\n",
       "  <thead>\n",
       "    <tr style=\"text-align: right;\">\n",
       "      <th></th>\n",
       "      <th>row_id</th>\n",
       "      <th>timestamp</th>\n",
       "      <th>user_id</th>\n",
       "      <th>content_id</th>\n",
       "      <th>content_type_id</th>\n",
       "      <th>task_container_id</th>\n",
       "      <th>user_answer</th>\n",
       "      <th>answered_correctly</th>\n",
       "      <th>prior_question_elapsed_time</th>\n",
       "      <th>prior_question_had_explanation</th>\n",
       "    </tr>\n",
       "  </thead>\n",
       "  <tbody>\n",
       "    <tr>\n",
       "      <th>0</th>\n",
       "      <td>0</td>\n",
       "      <td>0</td>\n",
       "      <td>115</td>\n",
       "      <td>5692</td>\n",
       "      <td>0</td>\n",
       "      <td>1</td>\n",
       "      <td>3</td>\n",
       "      <td>1</td>\n",
       "      <td>NaN</td>\n",
       "      <td>NaN</td>\n",
       "    </tr>\n",
       "    <tr>\n",
       "      <th>1</th>\n",
       "      <td>1</td>\n",
       "      <td>56943</td>\n",
       "      <td>115</td>\n",
       "      <td>5716</td>\n",
       "      <td>0</td>\n",
       "      <td>2</td>\n",
       "      <td>2</td>\n",
       "      <td>1</td>\n",
       "      <td>37,000.00</td>\n",
       "      <td>False</td>\n",
       "    </tr>\n",
       "    <tr>\n",
       "      <th>2</th>\n",
       "      <td>2</td>\n",
       "      <td>118363</td>\n",
       "      <td>115</td>\n",
       "      <td>128</td>\n",
       "      <td>0</td>\n",
       "      <td>0</td>\n",
       "      <td>0</td>\n",
       "      <td>1</td>\n",
       "      <td>55,000.00</td>\n",
       "      <td>False</td>\n",
       "    </tr>\n",
       "    <tr>\n",
       "      <th>3</th>\n",
       "      <td>3</td>\n",
       "      <td>131167</td>\n",
       "      <td>115</td>\n",
       "      <td>7860</td>\n",
       "      <td>0</td>\n",
       "      <td>3</td>\n",
       "      <td>0</td>\n",
       "      <td>1</td>\n",
       "      <td>19,000.00</td>\n",
       "      <td>False</td>\n",
       "    </tr>\n",
       "    <tr>\n",
       "      <th>4</th>\n",
       "      <td>4</td>\n",
       "      <td>137965</td>\n",
       "      <td>115</td>\n",
       "      <td>7922</td>\n",
       "      <td>0</td>\n",
       "      <td>4</td>\n",
       "      <td>1</td>\n",
       "      <td>1</td>\n",
       "      <td>11,000.00</td>\n",
       "      <td>False</td>\n",
       "    </tr>\n",
       "  </tbody>\n",
       "</table>\n",
       "</div>"
      ],
      "text/plain": [
       "   row_id  timestamp  user_id  content_id  content_type_id  task_container_id  \\\n",
       "0       0          0      115        5692                0                  1   \n",
       "1       1      56943      115        5716                0                  2   \n",
       "2       2     118363      115         128                0                  0   \n",
       "3       3     131167      115        7860                0                  3   \n",
       "4       4     137965      115        7922                0                  4   \n",
       "\n",
       "   user_answer  answered_correctly  prior_question_elapsed_time  \\\n",
       "0            3                   1                          NaN   \n",
       "1            2                   1                    37,000.00   \n",
       "2            0                   1                    55,000.00   \n",
       "3            0                   1                    19,000.00   \n",
       "4            1                   1                    11,000.00   \n",
       "\n",
       "  prior_question_had_explanation  \n",
       "0                            NaN  \n",
       "1                          False  \n",
       "2                          False  \n",
       "3                          False  \n",
       "4                          False  "
      ]
     },
     "execution_count": 67,
     "metadata": {},
     "output_type": "execute_result"
    }
   ],
   "source": [
    "df_train.head()"
   ]
  },
  {
   "cell_type": "code",
   "execution_count": 68,
   "id": "9e877b6e",
   "metadata": {
    "scrolled": true
   },
   "outputs": [
    {
     "name": "stdout",
     "output_type": "stream",
     "text": [
      "<class 'pandas.core.frame.DataFrame'>\n",
      "RangeIndex: 101230332 entries, 0 to 101230331\n",
      "Data columns (total 10 columns):\n",
      " #   Column                          Dtype  \n",
      "---  ------                          -----  \n",
      " 0   row_id                          int64  \n",
      " 1   timestamp                       int64  \n",
      " 2   user_id                         int64  \n",
      " 3   content_id                      int64  \n",
      " 4   content_type_id                 int64  \n",
      " 5   task_container_id               int64  \n",
      " 6   user_answer                     int64  \n",
      " 7   answered_correctly              int64  \n",
      " 8   prior_question_elapsed_time     float64\n",
      " 9   prior_question_had_explanation  object \n",
      "dtypes: float64(1), int64(8), object(1)\n",
      "memory usage: 7.5+ GB\n"
     ]
    }
   ],
   "source": [
    "df_train.info()"
   ]
  },
  {
   "cell_type": "markdown",
   "id": "f0f6d8a7",
   "metadata": {},
   "source": [
    "Вывод: датасет содержит 101 млн наблюдений и занимает в памяти 7.5 Гб. Можно попопробовать оптимизировать датасет проверив количество уникальных значений в фичах (признаках)."
   ]
  },
  {
   "cell_type": "code",
   "execution_count": 69,
   "id": "76339ce0",
   "metadata": {},
   "outputs": [
    {
     "name": "stdout",
     "output_type": "stream",
     "text": [
      "393656\n",
      "2147482888\n"
     ]
    }
   ],
   "source": [
    "print(df_train['user_id'].nunique())\n",
    "print(df_train['user_id'].max())"
   ]
  },
  {
   "cell_type": "code",
   "execution_count": 70,
   "id": "fcf7b002",
   "metadata": {},
   "outputs": [
    {
     "name": "stdout",
     "output_type": "stream",
     "text": [
      "13782\n",
      "32736\n"
     ]
    }
   ],
   "source": [
    "print(df_train['content_id'].nunique())\n",
    "print(df_train['content_id'].max())"
   ]
  },
  {
   "cell_type": "code",
   "execution_count": 71,
   "id": "859777c3",
   "metadata": {},
   "outputs": [
    {
     "name": "stdout",
     "output_type": "stream",
     "text": [
      "2\n",
      "1\n"
     ]
    }
   ],
   "source": [
    "print(df_train['content_type_id'].nunique())\n",
    "print(df_train['content_type_id'].max())"
   ]
  },
  {
   "cell_type": "code",
   "execution_count": 72,
   "id": "748a4e2a",
   "metadata": {},
   "outputs": [
    {
     "name": "stdout",
     "output_type": "stream",
     "text": [
      "10000\n",
      "9999\n"
     ]
    }
   ],
   "source": [
    "print(df_train['task_container_id'].nunique())\n",
    "print(df_train['task_container_id'].max())"
   ]
  },
  {
   "cell_type": "code",
   "execution_count": 73,
   "id": "d129953d",
   "metadata": {},
   "outputs": [
    {
     "name": "stdout",
     "output_type": "stream",
     "text": [
      "5\n",
      "3\n"
     ]
    }
   ],
   "source": [
    "print(df_train['user_answer'].nunique())\n",
    "print(df_train['user_answer'].max())"
   ]
  },
  {
   "cell_type": "code",
   "execution_count": 74,
   "id": "59f08e9a",
   "metadata": {},
   "outputs": [
    {
     "name": "stdout",
     "output_type": "stream",
     "text": [
      "3\n",
      "1\n"
     ]
    }
   ],
   "source": [
    "print(df_train['answered_correctly'].nunique())\n",
    "print(df_train['answered_correctly'].max())"
   ]
  },
  {
   "cell_type": "code",
   "execution_count": 75,
   "id": "142c0385",
   "metadata": {},
   "outputs": [
    {
     "name": "stdout",
     "output_type": "stream",
     "text": [
      "2\n"
     ]
    }
   ],
   "source": [
    "print(df_train['prior_question_had_explanation'].nunique())"
   ]
  },
  {
   "cell_type": "markdown",
   "id": "acf15de4",
   "metadata": {},
   "source": [
    "Столбец row_id является индексом строк и его можно удалить.\n",
    "Фичи 2-7 являются int64 и поэтому занимают много места в памяти. Судя по разряду чисел и количеству уникальных значений возможны следующие преобразования:\n",
    "1. user_id - int32\n",
    "2. content_id - int16\n",
    "3. content_type_id - int8\n",
    "4. task_container_id - int16\n",
    "5. user_answer - int8\n",
    "6. answered_correctly - int8\n",
    "7. prior_question_had_explanation - bool"
   ]
  },
  {
   "cell_type": "markdown",
   "id": "0809683f",
   "metadata": {},
   "source": [
    "## Оптимизируем датафрейм\n",
    "Преобразуем типы данных для фичей"
   ]
  },
  {
   "cell_type": "code",
   "execution_count": 76,
   "id": "2af9307d",
   "metadata": {},
   "outputs": [],
   "source": [
    "pd.options.display.float_format ='{:,.2f}'.format"
   ]
  },
  {
   "cell_type": "code",
   "execution_count": 77,
   "id": "d641f01e",
   "metadata": {},
   "outputs": [],
   "source": [
    "df_train['user_id'] = df_train['user_id'].astype('int32')\n",
    "df_train['content_id'] = df_train['content_id'].astype('int16')\n",
    "df_train['content_type_id'] = df_train['content_type_id'].astype('int8')\n",
    "df_train['task_container_id'] = df_train['task_container_id'].astype('int16')\n",
    "df_train['user_answer'] = df_train['user_answer'].astype('int8')\n",
    "df_train['answered_correctly'] = df_train['answered_correctly'].astype('int8')\n",
    "df_train['prior_question_had_explanation'] = df_train['prior_question_had_explanation'].astype('bool')"
   ]
  },
  {
   "cell_type": "markdown",
   "id": "934d7f1e",
   "metadata": {},
   "source": [
    "Удаляем столбец row_id"
   ]
  },
  {
   "cell_type": "code",
   "execution_count": 78,
   "id": "d470eb70",
   "metadata": {},
   "outputs": [],
   "source": [
    "df_train.drop('row_id', axis=1, inplace=True)"
   ]
  },
  {
   "cell_type": "code",
   "execution_count": 79,
   "id": "e12d87cb",
   "metadata": {
    "scrolled": true
   },
   "outputs": [
    {
     "name": "stdout",
     "output_type": "stream",
     "text": [
      "<class 'pandas.core.frame.DataFrame'>\n",
      "RangeIndex: 101230332 entries, 0 to 101230331\n",
      "Data columns (total 9 columns):\n",
      " #   Column                          Dtype  \n",
      "---  ------                          -----  \n",
      " 0   timestamp                       int64  \n",
      " 1   user_id                         int32  \n",
      " 2   content_id                      int16  \n",
      " 3   content_type_id                 int8   \n",
      " 4   task_container_id               int16  \n",
      " 5   user_answer                     int8   \n",
      " 6   answered_correctly              int8   \n",
      " 7   prior_question_elapsed_time     float64\n",
      " 8   prior_question_had_explanation  bool   \n",
      "dtypes: bool(1), float64(1), int16(2), int32(1), int64(1), int8(3)\n",
      "memory usage: 2.6 GB\n"
     ]
    }
   ],
   "source": [
    "df_train.info()"
   ]
  },
  {
   "cell_type": "code",
   "execution_count": 80,
   "id": "4ee5c008",
   "metadata": {},
   "outputs": [
    {
     "data": {
      "text/html": [
       "<div>\n",
       "<style scoped>\n",
       "    .dataframe tbody tr th:only-of-type {\n",
       "        vertical-align: middle;\n",
       "    }\n",
       "\n",
       "    .dataframe tbody tr th {\n",
       "        vertical-align: top;\n",
       "    }\n",
       "\n",
       "    .dataframe thead th {\n",
       "        text-align: right;\n",
       "    }\n",
       "</style>\n",
       "<table border=\"1\" class=\"dataframe\">\n",
       "  <thead>\n",
       "    <tr style=\"text-align: right;\">\n",
       "      <th></th>\n",
       "      <th>timestamp</th>\n",
       "      <th>user_id</th>\n",
       "      <th>content_id</th>\n",
       "      <th>content_type_id</th>\n",
       "      <th>task_container_id</th>\n",
       "      <th>user_answer</th>\n",
       "      <th>answered_correctly</th>\n",
       "      <th>prior_question_elapsed_time</th>\n",
       "      <th>prior_question_had_explanation</th>\n",
       "    </tr>\n",
       "  </thead>\n",
       "  <tbody>\n",
       "    <tr>\n",
       "      <th>0</th>\n",
       "      <td>0</td>\n",
       "      <td>115</td>\n",
       "      <td>5692</td>\n",
       "      <td>0</td>\n",
       "      <td>1</td>\n",
       "      <td>3</td>\n",
       "      <td>1</td>\n",
       "      <td>NaN</td>\n",
       "      <td>True</td>\n",
       "    </tr>\n",
       "    <tr>\n",
       "      <th>1</th>\n",
       "      <td>56943</td>\n",
       "      <td>115</td>\n",
       "      <td>5716</td>\n",
       "      <td>0</td>\n",
       "      <td>2</td>\n",
       "      <td>2</td>\n",
       "      <td>1</td>\n",
       "      <td>37,000.00</td>\n",
       "      <td>False</td>\n",
       "    </tr>\n",
       "    <tr>\n",
       "      <th>2</th>\n",
       "      <td>118363</td>\n",
       "      <td>115</td>\n",
       "      <td>128</td>\n",
       "      <td>0</td>\n",
       "      <td>0</td>\n",
       "      <td>0</td>\n",
       "      <td>1</td>\n",
       "      <td>55,000.00</td>\n",
       "      <td>False</td>\n",
       "    </tr>\n",
       "    <tr>\n",
       "      <th>3</th>\n",
       "      <td>131167</td>\n",
       "      <td>115</td>\n",
       "      <td>7860</td>\n",
       "      <td>0</td>\n",
       "      <td>3</td>\n",
       "      <td>0</td>\n",
       "      <td>1</td>\n",
       "      <td>19,000.00</td>\n",
       "      <td>False</td>\n",
       "    </tr>\n",
       "    <tr>\n",
       "      <th>4</th>\n",
       "      <td>137965</td>\n",
       "      <td>115</td>\n",
       "      <td>7922</td>\n",
       "      <td>0</td>\n",
       "      <td>4</td>\n",
       "      <td>1</td>\n",
       "      <td>1</td>\n",
       "      <td>11,000.00</td>\n",
       "      <td>False</td>\n",
       "    </tr>\n",
       "  </tbody>\n",
       "</table>\n",
       "</div>"
      ],
      "text/plain": [
       "   timestamp  user_id  content_id  content_type_id  task_container_id  \\\n",
       "0          0      115        5692                0                  1   \n",
       "1      56943      115        5716                0                  2   \n",
       "2     118363      115         128                0                  0   \n",
       "3     131167      115        7860                0                  3   \n",
       "4     137965      115        7922                0                  4   \n",
       "\n",
       "   user_answer  answered_correctly  prior_question_elapsed_time  \\\n",
       "0            3                   1                          NaN   \n",
       "1            2                   1                    37,000.00   \n",
       "2            0                   1                    55,000.00   \n",
       "3            0                   1                    19,000.00   \n",
       "4            1                   1                    11,000.00   \n",
       "\n",
       "   prior_question_had_explanation  \n",
       "0                            True  \n",
       "1                           False  \n",
       "2                           False  \n",
       "3                           False  \n",
       "4                           False  "
      ]
     },
     "execution_count": 80,
     "metadata": {},
     "output_type": "execute_result"
    }
   ],
   "source": [
    "df_train.head()"
   ]
  },
  {
   "cell_type": "markdown",
   "id": "2681bd6d",
   "metadata": {},
   "source": [
    "Размер датасета в памяти сократился с 7.5 Гб до 2.6 Гб. Почти в 3 раза!"
   ]
  },
  {
   "cell_type": "markdown",
   "id": "5fed21d0",
   "metadata": {},
   "source": [
    "## Аналогично оптимизируем остальные датасеты"
   ]
  },
  {
   "cell_type": "code",
   "execution_count": 18,
   "id": "ab09e3db",
   "metadata": {},
   "outputs": [
    {
     "name": "stdout",
     "output_type": "stream",
     "text": [
      "0.0082550048828125\n"
     ]
    }
   ],
   "source": [
    "start = time.time()\n",
    "df_questions = pd.read_csv('data/QUESTIONS.csv')\n",
    "end = time.time()\n",
    "print(end-start)"
   ]
  },
  {
   "cell_type": "code",
   "execution_count": 19,
   "id": "3723b5bb",
   "metadata": {},
   "outputs": [
    {
     "data": {
      "text/html": [
       "<div>\n",
       "<style scoped>\n",
       "    .dataframe tbody tr th:only-of-type {\n",
       "        vertical-align: middle;\n",
       "    }\n",
       "\n",
       "    .dataframe tbody tr th {\n",
       "        vertical-align: top;\n",
       "    }\n",
       "\n",
       "    .dataframe thead th {\n",
       "        text-align: right;\n",
       "    }\n",
       "</style>\n",
       "<table border=\"1\" class=\"dataframe\">\n",
       "  <thead>\n",
       "    <tr style=\"text-align: right;\">\n",
       "      <th></th>\n",
       "      <th>question_id</th>\n",
       "      <th>bundle_id</th>\n",
       "      <th>correct_answer</th>\n",
       "      <th>part</th>\n",
       "      <th>tags</th>\n",
       "    </tr>\n",
       "  </thead>\n",
       "  <tbody>\n",
       "    <tr>\n",
       "      <th>0</th>\n",
       "      <td>0</td>\n",
       "      <td>0</td>\n",
       "      <td>0</td>\n",
       "      <td>1</td>\n",
       "      <td>51 131 162 38</td>\n",
       "    </tr>\n",
       "    <tr>\n",
       "      <th>1</th>\n",
       "      <td>1</td>\n",
       "      <td>1</td>\n",
       "      <td>1</td>\n",
       "      <td>1</td>\n",
       "      <td>131 36 81</td>\n",
       "    </tr>\n",
       "    <tr>\n",
       "      <th>2</th>\n",
       "      <td>2</td>\n",
       "      <td>2</td>\n",
       "      <td>0</td>\n",
       "      <td>1</td>\n",
       "      <td>131 101 162 92</td>\n",
       "    </tr>\n",
       "    <tr>\n",
       "      <th>3</th>\n",
       "      <td>3</td>\n",
       "      <td>3</td>\n",
       "      <td>0</td>\n",
       "      <td>1</td>\n",
       "      <td>131 149 162 29</td>\n",
       "    </tr>\n",
       "    <tr>\n",
       "      <th>4</th>\n",
       "      <td>4</td>\n",
       "      <td>4</td>\n",
       "      <td>3</td>\n",
       "      <td>1</td>\n",
       "      <td>131 5 162 38</td>\n",
       "    </tr>\n",
       "  </tbody>\n",
       "</table>\n",
       "</div>"
      ],
      "text/plain": [
       "   question_id  bundle_id  correct_answer  part            tags\n",
       "0            0          0               0     1   51 131 162 38\n",
       "1            1          1               1     1       131 36 81\n",
       "2            2          2               0     1  131 101 162 92\n",
       "3            3          3               0     1  131 149 162 29\n",
       "4            4          4               3     1    131 5 162 38"
      ]
     },
     "execution_count": 19,
     "metadata": {},
     "output_type": "execute_result"
    }
   ],
   "source": [
    "df_questions.head()"
   ]
  },
  {
   "cell_type": "code",
   "execution_count": 20,
   "id": "0f3dfd61",
   "metadata": {
    "scrolled": true
   },
   "outputs": [
    {
     "name": "stdout",
     "output_type": "stream",
     "text": [
      "<class 'pandas.core.frame.DataFrame'>\n",
      "RangeIndex: 13523 entries, 0 to 13522\n",
      "Data columns (total 5 columns):\n",
      " #   Column          Non-Null Count  Dtype \n",
      "---  ------          --------------  ----- \n",
      " 0   question_id     13523 non-null  int64 \n",
      " 1   bundle_id       13523 non-null  int64 \n",
      " 2   correct_answer  13523 non-null  int64 \n",
      " 3   part            13523 non-null  int64 \n",
      " 4   tags            13522 non-null  object\n",
      "dtypes: int64(4), object(1)\n",
      "memory usage: 528.4+ KB\n"
     ]
    }
   ],
   "source": [
    "df_questions.info()"
   ]
  },
  {
   "cell_type": "code",
   "execution_count": 21,
   "id": "dbe36925",
   "metadata": {},
   "outputs": [
    {
     "name": "stdout",
     "output_type": "stream",
     "text": [
      "13523\n",
      "13522\n"
     ]
    }
   ],
   "source": [
    "print(df_questions['question_id'].nunique())\n",
    "print(df_questions['question_id'].max())"
   ]
  },
  {
   "cell_type": "code",
   "execution_count": 22,
   "id": "10c3cf98",
   "metadata": {},
   "outputs": [
    {
     "name": "stdout",
     "output_type": "stream",
     "text": [
      "9765\n",
      "13522\n"
     ]
    }
   ],
   "source": [
    "print(df_questions['bundle_id'].nunique())\n",
    "print(df_questions['bundle_id'].max())"
   ]
  },
  {
   "cell_type": "code",
   "execution_count": 23,
   "id": "98610eb0",
   "metadata": {},
   "outputs": [
    {
     "name": "stdout",
     "output_type": "stream",
     "text": [
      "4\n",
      "3\n"
     ]
    }
   ],
   "source": [
    "print(df_questions['correct_answer'].nunique())\n",
    "print(df_questions['correct_answer'].max())"
   ]
  },
  {
   "cell_type": "code",
   "execution_count": 24,
   "id": "60d11e13",
   "metadata": {},
   "outputs": [
    {
     "name": "stdout",
     "output_type": "stream",
     "text": [
      "7\n",
      "7\n"
     ]
    }
   ],
   "source": [
    "print(df_questions['part'].nunique())\n",
    "print(df_questions['part'].max())"
   ]
  },
  {
   "cell_type": "code",
   "execution_count": 25,
   "id": "a56f9015",
   "metadata": {},
   "outputs": [],
   "source": [
    "df_questions['question_id'] = df_questions['question_id'].astype('int16')\n",
    "df_questions['bundle_id'] = df_questions['bundle_id'].astype('int16')\n",
    "df_questions['correct_answer'] = df_questions['correct_answer'].astype('int8')\n",
    "df_questions['part'] = df_questions['part'].astype('int8')"
   ]
  },
  {
   "cell_type": "code",
   "execution_count": 26,
   "id": "1ce29340",
   "metadata": {},
   "outputs": [
    {
     "name": "stdout",
     "output_type": "stream",
     "text": [
      "<class 'pandas.core.frame.DataFrame'>\n",
      "RangeIndex: 13523 entries, 0 to 13522\n",
      "Data columns (total 5 columns):\n",
      " #   Column          Non-Null Count  Dtype \n",
      "---  ------          --------------  ----- \n",
      " 0   question_id     13523 non-null  int16 \n",
      " 1   bundle_id       13523 non-null  int16 \n",
      " 2   correct_answer  13523 non-null  int8  \n",
      " 3   part            13523 non-null  int8  \n",
      " 4   tags            13522 non-null  object\n",
      "dtypes: int16(2), int8(2), object(1)\n",
      "memory usage: 185.0+ KB\n"
     ]
    }
   ],
   "source": [
    "df_questions.info()"
   ]
  },
  {
   "cell_type": "code",
   "execution_count": 27,
   "id": "0b7caea8",
   "metadata": {},
   "outputs": [
    {
     "name": "stdout",
     "output_type": "stream",
     "text": [
      "0.0023200511932373047\n"
     ]
    }
   ],
   "source": [
    "start = time.time()\n",
    "df_lectures = pd.read_csv('data/LECTURES.csv')\n",
    "end = time.time()\n",
    "print(end-start)"
   ]
  },
  {
   "cell_type": "code",
   "execution_count": 28,
   "id": "286e7c23",
   "metadata": {},
   "outputs": [
    {
     "data": {
      "text/html": [
       "<div>\n",
       "<style scoped>\n",
       "    .dataframe tbody tr th:only-of-type {\n",
       "        vertical-align: middle;\n",
       "    }\n",
       "\n",
       "    .dataframe tbody tr th {\n",
       "        vertical-align: top;\n",
       "    }\n",
       "\n",
       "    .dataframe thead th {\n",
       "        text-align: right;\n",
       "    }\n",
       "</style>\n",
       "<table border=\"1\" class=\"dataframe\">\n",
       "  <thead>\n",
       "    <tr style=\"text-align: right;\">\n",
       "      <th></th>\n",
       "      <th>lecture_id</th>\n",
       "      <th>tag</th>\n",
       "      <th>part</th>\n",
       "      <th>type_of</th>\n",
       "    </tr>\n",
       "  </thead>\n",
       "  <tbody>\n",
       "    <tr>\n",
       "      <th>0</th>\n",
       "      <td>89</td>\n",
       "      <td>159</td>\n",
       "      <td>5</td>\n",
       "      <td>concept</td>\n",
       "    </tr>\n",
       "    <tr>\n",
       "      <th>1</th>\n",
       "      <td>100</td>\n",
       "      <td>70</td>\n",
       "      <td>1</td>\n",
       "      <td>concept</td>\n",
       "    </tr>\n",
       "    <tr>\n",
       "      <th>2</th>\n",
       "      <td>185</td>\n",
       "      <td>45</td>\n",
       "      <td>6</td>\n",
       "      <td>concept</td>\n",
       "    </tr>\n",
       "    <tr>\n",
       "      <th>3</th>\n",
       "      <td>192</td>\n",
       "      <td>79</td>\n",
       "      <td>5</td>\n",
       "      <td>solving question</td>\n",
       "    </tr>\n",
       "    <tr>\n",
       "      <th>4</th>\n",
       "      <td>317</td>\n",
       "      <td>156</td>\n",
       "      <td>5</td>\n",
       "      <td>solving question</td>\n",
       "    </tr>\n",
       "  </tbody>\n",
       "</table>\n",
       "</div>"
      ],
      "text/plain": [
       "   lecture_id  tag  part           type_of\n",
       "0          89  159     5           concept\n",
       "1         100   70     1           concept\n",
       "2         185   45     6           concept\n",
       "3         192   79     5  solving question\n",
       "4         317  156     5  solving question"
      ]
     },
     "execution_count": 28,
     "metadata": {},
     "output_type": "execute_result"
    }
   ],
   "source": [
    "df_lectures.head()"
   ]
  },
  {
   "cell_type": "code",
   "execution_count": 29,
   "id": "cce4f929",
   "metadata": {},
   "outputs": [
    {
     "name": "stdout",
     "output_type": "stream",
     "text": [
      "<class 'pandas.core.frame.DataFrame'>\n",
      "RangeIndex: 418 entries, 0 to 417\n",
      "Data columns (total 4 columns):\n",
      " #   Column      Non-Null Count  Dtype \n",
      "---  ------      --------------  ----- \n",
      " 0   lecture_id  418 non-null    int64 \n",
      " 1   tag         418 non-null    int64 \n",
      " 2   part        418 non-null    int64 \n",
      " 3   type_of     418 non-null    object\n",
      "dtypes: int64(3), object(1)\n",
      "memory usage: 13.2+ KB\n"
     ]
    }
   ],
   "source": [
    "df_lectures.info()"
   ]
  },
  {
   "cell_type": "code",
   "execution_count": 30,
   "id": "25c2cd42",
   "metadata": {},
   "outputs": [
    {
     "name": "stdout",
     "output_type": "stream",
     "text": [
      "418\n",
      "32736\n"
     ]
    }
   ],
   "source": [
    "print(df_lectures['lecture_id'].nunique())\n",
    "print(df_lectures['lecture_id'].max())"
   ]
  },
  {
   "cell_type": "code",
   "execution_count": 31,
   "id": "3a3230d9",
   "metadata": {},
   "outputs": [
    {
     "name": "stdout",
     "output_type": "stream",
     "text": [
      "151\n",
      "187\n"
     ]
    }
   ],
   "source": [
    "print(df_lectures['tag'].nunique())\n",
    "print(df_lectures['tag'].max())"
   ]
  },
  {
   "cell_type": "code",
   "execution_count": 32,
   "id": "535adfe5",
   "metadata": {},
   "outputs": [
    {
     "name": "stdout",
     "output_type": "stream",
     "text": [
      "7\n",
      "7\n"
     ]
    }
   ],
   "source": [
    "print(df_lectures['part'].nunique())\n",
    "print(df_lectures['part'].max())"
   ]
  },
  {
   "cell_type": "code",
   "execution_count": 33,
   "id": "829ebf29",
   "metadata": {},
   "outputs": [
    {
     "name": "stdout",
     "output_type": "stream",
     "text": [
      "4\n"
     ]
    }
   ],
   "source": [
    "print(df_lectures['type_of'].nunique())"
   ]
  },
  {
   "cell_type": "code",
   "execution_count": 34,
   "id": "42914479",
   "metadata": {},
   "outputs": [],
   "source": [
    "df_lectures['lecture_id'] = df_lectures['lecture_id'].astype('int16')\n",
    "df_lectures['tag'] = df_lectures['tag'].astype('int16')\n",
    "df_lectures['part'] = df_lectures['part'].astype('int8')"
   ]
  },
  {
   "cell_type": "code",
   "execution_count": 35,
   "id": "cfca27b7",
   "metadata": {},
   "outputs": [
    {
     "name": "stdout",
     "output_type": "stream",
     "text": [
      "<class 'pandas.core.frame.DataFrame'>\n",
      "RangeIndex: 418 entries, 0 to 417\n",
      "Data columns (total 4 columns):\n",
      " #   Column      Non-Null Count  Dtype \n",
      "---  ------      --------------  ----- \n",
      " 0   lecture_id  418 non-null    int16 \n",
      " 1   tag         418 non-null    int16 \n",
      " 2   part        418 non-null    int8  \n",
      " 3   type_of     418 non-null    object\n",
      "dtypes: int16(2), int8(1), object(1)\n",
      "memory usage: 5.4+ KB\n"
     ]
    }
   ],
   "source": [
    "df_lectures.info()"
   ]
  },
  {
   "cell_type": "markdown",
   "id": "cfe01dfa",
   "metadata": {},
   "source": [
    "## Анализ признаков"
   ]
  },
  {
   "cell_type": "code",
   "execution_count": 81,
   "id": "fb3977f1",
   "metadata": {
    "scrolled": true
   },
   "outputs": [
    {
     "data": {
      "text/html": [
       "<div>\n",
       "<style scoped>\n",
       "    .dataframe tbody tr th:only-of-type {\n",
       "        vertical-align: middle;\n",
       "    }\n",
       "\n",
       "    .dataframe tbody tr th {\n",
       "        vertical-align: top;\n",
       "    }\n",
       "\n",
       "    .dataframe thead th {\n",
       "        text-align: right;\n",
       "    }\n",
       "</style>\n",
       "<table border=\"1\" class=\"dataframe\">\n",
       "  <thead>\n",
       "    <tr style=\"text-align: right;\">\n",
       "      <th></th>\n",
       "      <th>timestamp</th>\n",
       "      <th>user_id</th>\n",
       "      <th>content_id</th>\n",
       "      <th>content_type_id</th>\n",
       "      <th>task_container_id</th>\n",
       "      <th>user_answer</th>\n",
       "      <th>answered_correctly</th>\n",
       "      <th>prior_question_elapsed_time</th>\n",
       "      <th>prior_question_had_explanation</th>\n",
       "    </tr>\n",
       "  </thead>\n",
       "  <tbody>\n",
       "    <tr>\n",
       "      <th>timestamp</th>\n",
       "      <td>1.00</td>\n",
       "      <td>-0.00</td>\n",
       "      <td>0.05</td>\n",
       "      <td>0.00</td>\n",
       "      <td>0.43</td>\n",
       "      <td>0.00</td>\n",
       "      <td>0.03</td>\n",
       "      <td>0.01</td>\n",
       "      <td>0.15</td>\n",
       "    </tr>\n",
       "    <tr>\n",
       "      <th>user_id</th>\n",
       "      <td>-0.00</td>\n",
       "      <td>1.00</td>\n",
       "      <td>0.00</td>\n",
       "      <td>-0.00</td>\n",
       "      <td>0.00</td>\n",
       "      <td>0.00</td>\n",
       "      <td>-0.00</td>\n",
       "      <td>0.00</td>\n",
       "      <td>-0.00</td>\n",
       "    </tr>\n",
       "    <tr>\n",
       "      <th>content_id</th>\n",
       "      <td>0.05</td>\n",
       "      <td>0.00</td>\n",
       "      <td>1.00</td>\n",
       "      <td>0.41</td>\n",
       "      <td>0.05</td>\n",
       "      <td>-0.11</td>\n",
       "      <td>-0.20</td>\n",
       "      <td>0.15</td>\n",
       "      <td>-0.14</td>\n",
       "    </tr>\n",
       "    <tr>\n",
       "      <th>content_type_id</th>\n",
       "      <td>0.00</td>\n",
       "      <td>-0.00</td>\n",
       "      <td>0.41</td>\n",
       "      <td>1.00</td>\n",
       "      <td>-0.02</td>\n",
       "      <td>-0.28</td>\n",
       "      <td>-0.44</td>\n",
       "      <td>NaN</td>\n",
       "      <td>-0.40</td>\n",
       "    </tr>\n",
       "    <tr>\n",
       "      <th>task_container_id</th>\n",
       "      <td>0.43</td>\n",
       "      <td>0.00</td>\n",
       "      <td>0.05</td>\n",
       "      <td>-0.02</td>\n",
       "      <td>1.00</td>\n",
       "      <td>0.01</td>\n",
       "      <td>0.06</td>\n",
       "      <td>-0.01</td>\n",
       "      <td>0.16</td>\n",
       "    </tr>\n",
       "    <tr>\n",
       "      <th>user_answer</th>\n",
       "      <td>0.00</td>\n",
       "      <td>0.00</td>\n",
       "      <td>-0.11</td>\n",
       "      <td>-0.28</td>\n",
       "      <td>0.01</td>\n",
       "      <td>1.00</td>\n",
       "      <td>0.13</td>\n",
       "      <td>0.01</td>\n",
       "      <td>0.10</td>\n",
       "    </tr>\n",
       "    <tr>\n",
       "      <th>answered_correctly</th>\n",
       "      <td>0.03</td>\n",
       "      <td>-0.00</td>\n",
       "      <td>-0.20</td>\n",
       "      <td>-0.44</td>\n",
       "      <td>0.06</td>\n",
       "      <td>0.13</td>\n",
       "      <td>1.00</td>\n",
       "      <td>-0.01</td>\n",
       "      <td>0.26</td>\n",
       "    </tr>\n",
       "    <tr>\n",
       "      <th>prior_question_elapsed_time</th>\n",
       "      <td>0.01</td>\n",
       "      <td>0.00</td>\n",
       "      <td>0.15</td>\n",
       "      <td>NaN</td>\n",
       "      <td>-0.01</td>\n",
       "      <td>0.01</td>\n",
       "      <td>-0.01</td>\n",
       "      <td>1.00</td>\n",
       "      <td>-0.00</td>\n",
       "    </tr>\n",
       "    <tr>\n",
       "      <th>prior_question_had_explanation</th>\n",
       "      <td>0.15</td>\n",
       "      <td>-0.00</td>\n",
       "      <td>-0.14</td>\n",
       "      <td>-0.40</td>\n",
       "      <td>0.16</td>\n",
       "      <td>0.10</td>\n",
       "      <td>0.26</td>\n",
       "      <td>-0.00</td>\n",
       "      <td>1.00</td>\n",
       "    </tr>\n",
       "  </tbody>\n",
       "</table>\n",
       "</div>"
      ],
      "text/plain": [
       "                                timestamp  user_id  content_id  \\\n",
       "timestamp                            1.00    -0.00        0.05   \n",
       "user_id                             -0.00     1.00        0.00   \n",
       "content_id                           0.05     0.00        1.00   \n",
       "content_type_id                      0.00    -0.00        0.41   \n",
       "task_container_id                    0.43     0.00        0.05   \n",
       "user_answer                          0.00     0.00       -0.11   \n",
       "answered_correctly                   0.03    -0.00       -0.20   \n",
       "prior_question_elapsed_time          0.01     0.00        0.15   \n",
       "prior_question_had_explanation       0.15    -0.00       -0.14   \n",
       "\n",
       "                                content_type_id  task_container_id  \\\n",
       "timestamp                                  0.00               0.43   \n",
       "user_id                                   -0.00               0.00   \n",
       "content_id                                 0.41               0.05   \n",
       "content_type_id                            1.00              -0.02   \n",
       "task_container_id                         -0.02               1.00   \n",
       "user_answer                               -0.28               0.01   \n",
       "answered_correctly                        -0.44               0.06   \n",
       "prior_question_elapsed_time                 NaN              -0.01   \n",
       "prior_question_had_explanation            -0.40               0.16   \n",
       "\n",
       "                                user_answer  answered_correctly  \\\n",
       "timestamp                              0.00                0.03   \n",
       "user_id                                0.00               -0.00   \n",
       "content_id                            -0.11               -0.20   \n",
       "content_type_id                       -0.28               -0.44   \n",
       "task_container_id                      0.01                0.06   \n",
       "user_answer                            1.00                0.13   \n",
       "answered_correctly                     0.13                1.00   \n",
       "prior_question_elapsed_time            0.01               -0.01   \n",
       "prior_question_had_explanation         0.10                0.26   \n",
       "\n",
       "                                prior_question_elapsed_time  \\\n",
       "timestamp                                              0.01   \n",
       "user_id                                                0.00   \n",
       "content_id                                             0.15   \n",
       "content_type_id                                         NaN   \n",
       "task_container_id                                     -0.01   \n",
       "user_answer                                            0.01   \n",
       "answered_correctly                                    -0.01   \n",
       "prior_question_elapsed_time                            1.00   \n",
       "prior_question_had_explanation                        -0.00   \n",
       "\n",
       "                                prior_question_had_explanation  \n",
       "timestamp                                                 0.15  \n",
       "user_id                                                  -0.00  \n",
       "content_id                                               -0.14  \n",
       "content_type_id                                          -0.40  \n",
       "task_container_id                                         0.16  \n",
       "user_answer                                               0.10  \n",
       "answered_correctly                                        0.26  \n",
       "prior_question_elapsed_time                              -0.00  \n",
       "prior_question_had_explanation                            1.00  "
      ]
     },
     "execution_count": 81,
     "metadata": {},
     "output_type": "execute_result"
    }
   ],
   "source": [
    "df1 = df_train.copy()\n",
    "df1.corr()"
   ]
  },
  {
   "cell_type": "markdown",
   "id": "cad810ea",
   "metadata": {},
   "source": [
    "Вывод: связь между признаками слабая и признаки в целом независимы друг от друга, т.к. коэффициенты корреляции низкие. Это означает, что необходимости удалять признаки нет. Все признаки можно будет использовать в дальнейшем для построения моделей."
   ]
  },
  {
   "cell_type": "markdown",
   "id": "3c7edfee",
   "metadata": {},
   "source": [
    "## Анализ датасета"
   ]
  },
  {
   "cell_type": "code",
   "execution_count": 46,
   "id": "a0915088",
   "metadata": {},
   "outputs": [
    {
     "data": {
      "text/html": [
       "<div>\n",
       "<style scoped>\n",
       "    .dataframe tbody tr th:only-of-type {\n",
       "        vertical-align: middle;\n",
       "    }\n",
       "\n",
       "    .dataframe tbody tr th {\n",
       "        vertical-align: top;\n",
       "    }\n",
       "\n",
       "    .dataframe thead th {\n",
       "        text-align: right;\n",
       "    }\n",
       "</style>\n",
       "<table border=\"1\" class=\"dataframe\">\n",
       "  <thead>\n",
       "    <tr style=\"text-align: right;\">\n",
       "      <th></th>\n",
       "      <th>timestamp</th>\n",
       "      <th>user_id</th>\n",
       "      <th>content_id</th>\n",
       "      <th>content_type_id</th>\n",
       "      <th>task_container_id</th>\n",
       "      <th>user_answer</th>\n",
       "      <th>answered_correctly</th>\n",
       "      <th>prior_question_elapsed_time</th>\n",
       "    </tr>\n",
       "  </thead>\n",
       "  <tbody>\n",
       "    <tr>\n",
       "      <th>count</th>\n",
       "      <td>101,230,332.00</td>\n",
       "      <td>101,230,332.00</td>\n",
       "      <td>101,230,332.00</td>\n",
       "      <td>101,230,332.00</td>\n",
       "      <td>101,230,332.00</td>\n",
       "      <td>101,230,332.00</td>\n",
       "      <td>101,230,332.00</td>\n",
       "      <td>98,878,794.00</td>\n",
       "    </tr>\n",
       "    <tr>\n",
       "      <th>mean</th>\n",
       "      <td>7,703,643,654.33</td>\n",
       "      <td>1,076,732,424.20</td>\n",
       "      <td>5,219.60</td>\n",
       "      <td>0.02</td>\n",
       "      <td>904.06</td>\n",
       "      <td>1.38</td>\n",
       "      <td>0.63</td>\n",
       "      <td>25,423.81</td>\n",
       "    </tr>\n",
       "    <tr>\n",
       "      <th>std</th>\n",
       "      <td>11,592,655,308.51</td>\n",
       "      <td>619,716,349.50</td>\n",
       "      <td>3,866.36</td>\n",
       "      <td>0.14</td>\n",
       "      <td>1,358.30</td>\n",
       "      <td>1.19</td>\n",
       "      <td>0.52</td>\n",
       "      <td>19,948.15</td>\n",
       "    </tr>\n",
       "    <tr>\n",
       "      <th>min</th>\n",
       "      <td>0.00</td>\n",
       "      <td>115.00</td>\n",
       "      <td>0.00</td>\n",
       "      <td>0.00</td>\n",
       "      <td>0.00</td>\n",
       "      <td>-1.00</td>\n",
       "      <td>-1.00</td>\n",
       "      <td>0.00</td>\n",
       "    </tr>\n",
       "    <tr>\n",
       "      <th>25%</th>\n",
       "      <td>524,343,559.00</td>\n",
       "      <td>540,811,564.00</td>\n",
       "      <td>2,063.00</td>\n",
       "      <td>0.00</td>\n",
       "      <td>104.00</td>\n",
       "      <td>0.00</td>\n",
       "      <td>0.00</td>\n",
       "      <td>16,000.00</td>\n",
       "    </tr>\n",
       "    <tr>\n",
       "      <th>50%</th>\n",
       "      <td>2,674,233,764.50</td>\n",
       "      <td>1,071,781,070.00</td>\n",
       "      <td>5,026.00</td>\n",
       "      <td>0.00</td>\n",
       "      <td>382.00</td>\n",
       "      <td>1.00</td>\n",
       "      <td>1.00</td>\n",
       "      <td>21,000.00</td>\n",
       "    </tr>\n",
       "    <tr>\n",
       "      <th>75%</th>\n",
       "      <td>9,924,550,562.75</td>\n",
       "      <td>1,615,741,676.00</td>\n",
       "      <td>7,425.00</td>\n",
       "      <td>0.00</td>\n",
       "      <td>1,094.00</td>\n",
       "      <td>3.00</td>\n",
       "      <td>1.00</td>\n",
       "      <td>29,666.00</td>\n",
       "    </tr>\n",
       "    <tr>\n",
       "      <th>max</th>\n",
       "      <td>87,425,772,049.00</td>\n",
       "      <td>2,147,482,888.00</td>\n",
       "      <td>32,736.00</td>\n",
       "      <td>1.00</td>\n",
       "      <td>9,999.00</td>\n",
       "      <td>3.00</td>\n",
       "      <td>1.00</td>\n",
       "      <td>300,000.00</td>\n",
       "    </tr>\n",
       "  </tbody>\n",
       "</table>\n",
       "</div>"
      ],
      "text/plain": [
       "              timestamp          user_id     content_id  content_type_id  \\\n",
       "count    101,230,332.00   101,230,332.00 101,230,332.00   101,230,332.00   \n",
       "mean   7,703,643,654.33 1,076,732,424.20       5,219.60             0.02   \n",
       "std   11,592,655,308.51   619,716,349.50       3,866.36             0.14   \n",
       "min                0.00           115.00           0.00             0.00   \n",
       "25%      524,343,559.00   540,811,564.00       2,063.00             0.00   \n",
       "50%    2,674,233,764.50 1,071,781,070.00       5,026.00             0.00   \n",
       "75%    9,924,550,562.75 1,615,741,676.00       7,425.00             0.00   \n",
       "max   87,425,772,049.00 2,147,482,888.00      32,736.00             1.00   \n",
       "\n",
       "       task_container_id    user_answer  answered_correctly  \\\n",
       "count     101,230,332.00 101,230,332.00      101,230,332.00   \n",
       "mean              904.06           1.38                0.63   \n",
       "std             1,358.30           1.19                0.52   \n",
       "min                 0.00          -1.00               -1.00   \n",
       "25%               104.00           0.00                0.00   \n",
       "50%               382.00           1.00                1.00   \n",
       "75%             1,094.00           3.00                1.00   \n",
       "max             9,999.00           3.00                1.00   \n",
       "\n",
       "       prior_question_elapsed_time  \n",
       "count                98,878,794.00  \n",
       "mean                     25,423.81  \n",
       "std                      19,948.15  \n",
       "min                           0.00  \n",
       "25%                      16,000.00  \n",
       "50%                      21,000.00  \n",
       "75%                      29,666.00  \n",
       "max                     300,000.00  "
      ]
     },
     "execution_count": 46,
     "metadata": {},
     "output_type": "execute_result"
    }
   ],
   "source": [
    "df1.describe()"
   ]
  },
  {
   "cell_type": "markdown",
   "id": "1961baba",
   "metadata": {},
   "source": [
    "Описательная статистика особо интересных инсайтов не дает. Единственно, можно заметить, что 63% вопросов имеют корректные ответы. Это подтверждается тем, что 50 персентиль имеет значение 1 в признаке answered_correctly"
   ]
  },
  {
   "cell_type": "markdown",
   "id": "8412efac",
   "metadata": {},
   "source": [
    "Поле timestamp переведем в минуты, а само поле удалим для удобства дальнейшего анализа"
   ]
  },
  {
   "cell_type": "code",
   "execution_count": 82,
   "id": "1165e7c3",
   "metadata": {},
   "outputs": [],
   "source": [
    "df1['minutes_spent'] = df1['timestamp'] / 60000\n",
    "df1.drop('timestamp', axis=1, inplace=True)"
   ]
  },
  {
   "cell_type": "code",
   "execution_count": 83,
   "id": "d3cb9801",
   "metadata": {},
   "outputs": [
    {
     "data": {
      "text/html": [
       "<div>\n",
       "<style scoped>\n",
       "    .dataframe tbody tr th:only-of-type {\n",
       "        vertical-align: middle;\n",
       "    }\n",
       "\n",
       "    .dataframe tbody tr th {\n",
       "        vertical-align: top;\n",
       "    }\n",
       "\n",
       "    .dataframe thead th {\n",
       "        text-align: right;\n",
       "    }\n",
       "</style>\n",
       "<table border=\"1\" class=\"dataframe\">\n",
       "  <thead>\n",
       "    <tr style=\"text-align: right;\">\n",
       "      <th></th>\n",
       "      <th>user_id</th>\n",
       "      <th>content_id</th>\n",
       "      <th>content_type_id</th>\n",
       "      <th>task_container_id</th>\n",
       "      <th>user_answer</th>\n",
       "      <th>answered_correctly</th>\n",
       "      <th>prior_question_elapsed_time</th>\n",
       "      <th>prior_question_had_explanation</th>\n",
       "      <th>minutes_spent</th>\n",
       "    </tr>\n",
       "  </thead>\n",
       "  <tbody>\n",
       "    <tr>\n",
       "      <th>0</th>\n",
       "      <td>115</td>\n",
       "      <td>5692</td>\n",
       "      <td>0</td>\n",
       "      <td>1</td>\n",
       "      <td>3</td>\n",
       "      <td>1</td>\n",
       "      <td>NaN</td>\n",
       "      <td>True</td>\n",
       "      <td>0.00</td>\n",
       "    </tr>\n",
       "    <tr>\n",
       "      <th>1</th>\n",
       "      <td>115</td>\n",
       "      <td>5716</td>\n",
       "      <td>0</td>\n",
       "      <td>2</td>\n",
       "      <td>2</td>\n",
       "      <td>1</td>\n",
       "      <td>37,000.00</td>\n",
       "      <td>False</td>\n",
       "      <td>0.95</td>\n",
       "    </tr>\n",
       "    <tr>\n",
       "      <th>2</th>\n",
       "      <td>115</td>\n",
       "      <td>128</td>\n",
       "      <td>0</td>\n",
       "      <td>0</td>\n",
       "      <td>0</td>\n",
       "      <td>1</td>\n",
       "      <td>55,000.00</td>\n",
       "      <td>False</td>\n",
       "      <td>1.97</td>\n",
       "    </tr>\n",
       "    <tr>\n",
       "      <th>3</th>\n",
       "      <td>115</td>\n",
       "      <td>7860</td>\n",
       "      <td>0</td>\n",
       "      <td>3</td>\n",
       "      <td>0</td>\n",
       "      <td>1</td>\n",
       "      <td>19,000.00</td>\n",
       "      <td>False</td>\n",
       "      <td>2.19</td>\n",
       "    </tr>\n",
       "    <tr>\n",
       "      <th>4</th>\n",
       "      <td>115</td>\n",
       "      <td>7922</td>\n",
       "      <td>0</td>\n",
       "      <td>4</td>\n",
       "      <td>1</td>\n",
       "      <td>1</td>\n",
       "      <td>11,000.00</td>\n",
       "      <td>False</td>\n",
       "      <td>2.30</td>\n",
       "    </tr>\n",
       "  </tbody>\n",
       "</table>\n",
       "</div>"
      ],
      "text/plain": [
       "   user_id  content_id  content_type_id  task_container_id  user_answer  \\\n",
       "0      115        5692                0                  1            3   \n",
       "1      115        5716                0                  2            2   \n",
       "2      115         128                0                  0            0   \n",
       "3      115        7860                0                  3            0   \n",
       "4      115        7922                0                  4            1   \n",
       "\n",
       "   answered_correctly  prior_question_elapsed_time  \\\n",
       "0                   1                          NaN   \n",
       "1                   1                    37,000.00   \n",
       "2                   1                    55,000.00   \n",
       "3                   1                    19,000.00   \n",
       "4                   1                    11,000.00   \n",
       "\n",
       "   prior_question_had_explanation  minutes_spent  \n",
       "0                            True           0.00  \n",
       "1                           False           0.95  \n",
       "2                           False           1.97  \n",
       "3                           False           2.19  \n",
       "4                           False           2.30  "
      ]
     },
     "execution_count": 83,
     "metadata": {},
     "output_type": "execute_result"
    }
   ],
   "source": [
    "df1.head()"
   ]
  },
  {
   "cell_type": "code",
   "execution_count": 84,
   "id": "03c86489",
   "metadata": {},
   "outputs": [],
   "source": [
    "new_df = df1[['user_id','minutes_spent','answered_correctly']].groupby(['user_id']).sum()"
   ]
  },
  {
   "cell_type": "code",
   "execution_count": 85,
   "id": "dd500c0d",
   "metadata": {},
   "outputs": [],
   "source": [
    "new_df['total_questions'] = df1['user_id'].value_counts()"
   ]
  },
  {
   "cell_type": "code",
   "execution_count": 86,
   "id": "cfe5bda9",
   "metadata": {},
   "outputs": [],
   "source": [
    "new_df['success'] = new_df['answered_correctly'] / new_df['total_questions']"
   ]
  },
  {
   "cell_type": "code",
   "execution_count": 88,
   "id": "82a874d1",
   "metadata": {},
   "outputs": [],
   "source": [
    "new_df['avg_min_per_quest'] = new_df['minutes_spent'] / new_df['total_questions']"
   ]
  },
  {
   "cell_type": "markdown",
   "id": "f3033a34",
   "metadata": {},
   "source": [
    "Сгруппировали датасет по пользователям. Посчитали:\n",
    "* сколько времени потратил каждый пользователь на учебу \n",
    "* на какое количество вопросов он корректно ответил \n",
    "* на какое количество вопросов в целом отвечал\n",
    "* процент успеха\n",
    "* среднее количество времени, затраченного на 1 вопрос"
   ]
  },
  {
   "cell_type": "code",
   "execution_count": 93,
   "id": "9ab247f4",
   "metadata": {
    "scrolled": true
   },
   "outputs": [
    {
     "data": {
      "text/html": [
       "<div>\n",
       "<style scoped>\n",
       "    .dataframe tbody tr th:only-of-type {\n",
       "        vertical-align: middle;\n",
       "    }\n",
       "\n",
       "    .dataframe tbody tr th {\n",
       "        vertical-align: top;\n",
       "    }\n",
       "\n",
       "    .dataframe thead th {\n",
       "        text-align: right;\n",
       "    }\n",
       "</style>\n",
       "<table border=\"1\" class=\"dataframe\">\n",
       "  <thead>\n",
       "    <tr style=\"text-align: right;\">\n",
       "      <th></th>\n",
       "      <th>minutes_spent</th>\n",
       "      <th>answered_correctly</th>\n",
       "      <th>total_questions</th>\n",
       "      <th>success</th>\n",
       "      <th>avg_min_per_quest</th>\n",
       "    </tr>\n",
       "    <tr>\n",
       "      <th>user_id</th>\n",
       "      <th></th>\n",
       "      <th></th>\n",
       "      <th></th>\n",
       "      <th></th>\n",
       "      <th></th>\n",
       "    </tr>\n",
       "  </thead>\n",
       "  <tbody>\n",
       "    <tr>\n",
       "      <th>2147470770</th>\n",
       "      <td>4,352,275.24</td>\n",
       "      <td>171.00</td>\n",
       "      <td>228</td>\n",
       "      <td>0.75</td>\n",
       "      <td>19,088.93</td>\n",
       "    </tr>\n",
       "    <tr>\n",
       "      <th>2147470777</th>\n",
       "      <td>144,059,617.31</td>\n",
       "      <td>514.00</td>\n",
       "      <td>758</td>\n",
       "      <td>0.68</td>\n",
       "      <td>190,052.27</td>\n",
       "    </tr>\n",
       "    <tr>\n",
       "      <th>2147481750</th>\n",
       "      <td>18,292.40</td>\n",
       "      <td>38.00</td>\n",
       "      <td>50</td>\n",
       "      <td>0.76</td>\n",
       "      <td>365.85</td>\n",
       "    </tr>\n",
       "    <tr>\n",
       "      <th>2147482216</th>\n",
       "      <td>4,005,866.08</td>\n",
       "      <td>172.00</td>\n",
       "      <td>280</td>\n",
       "      <td>0.61</td>\n",
       "      <td>14,306.66</td>\n",
       "    </tr>\n",
       "    <tr>\n",
       "      <th>2147482888</th>\n",
       "      <td>119,611.23</td>\n",
       "      <td>15.00</td>\n",
       "      <td>27</td>\n",
       "      <td>0.56</td>\n",
       "      <td>4,430.05</td>\n",
       "    </tr>\n",
       "  </tbody>\n",
       "</table>\n",
       "</div>"
      ],
      "text/plain": [
       "            minutes_spent  answered_correctly  total_questions  success  \\\n",
       "user_id                                                                   \n",
       "2147470770   4,352,275.24              171.00              228     0.75   \n",
       "2147470777 144,059,617.31              514.00              758     0.68   \n",
       "2147481750      18,292.40               38.00               50     0.76   \n",
       "2147482216   4,005,866.08              172.00              280     0.61   \n",
       "2147482888     119,611.23               15.00               27     0.56   \n",
       "\n",
       "            avg_min_per_quest  \n",
       "user_id                        \n",
       "2147470770          19,088.93  \n",
       "2147470777         190,052.27  \n",
       "2147481750             365.85  \n",
       "2147482216          14,306.66  \n",
       "2147482888           4,430.05  "
      ]
     },
     "execution_count": 93,
     "metadata": {},
     "output_type": "execute_result"
    }
   ],
   "source": [
    "new_df.tail()"
   ]
  },
  {
   "cell_type": "code",
   "execution_count": 94,
   "id": "c41ed4b5",
   "metadata": {},
   "outputs": [
    {
     "data": {
      "text/html": [
       "<div>\n",
       "<style scoped>\n",
       "    .dataframe tbody tr th:only-of-type {\n",
       "        vertical-align: middle;\n",
       "    }\n",
       "\n",
       "    .dataframe tbody tr th {\n",
       "        vertical-align: top;\n",
       "    }\n",
       "\n",
       "    .dataframe thead th {\n",
       "        text-align: right;\n",
       "    }\n",
       "</style>\n",
       "<table border=\"1\" class=\"dataframe\">\n",
       "  <thead>\n",
       "    <tr style=\"text-align: right;\">\n",
       "      <th></th>\n",
       "      <th>minutes_spent</th>\n",
       "      <th>answered_correctly</th>\n",
       "      <th>total_questions</th>\n",
       "      <th>success</th>\n",
       "      <th>avg_min_per_quest</th>\n",
       "    </tr>\n",
       "  </thead>\n",
       "  <tbody>\n",
       "    <tr>\n",
       "      <th>count</th>\n",
       "      <td>393,656.00</td>\n",
       "      <td>393,656.00</td>\n",
       "      <td>393,656.00</td>\n",
       "      <td>393,656.00</td>\n",
       "      <td>393,656.00</td>\n",
       "    </tr>\n",
       "    <tr>\n",
       "      <th>mean</th>\n",
       "      <td>33,017,084.49</td>\n",
       "      <td>160.76</td>\n",
       "      <td>257.15</td>\n",
       "      <td>0.53</td>\n",
       "      <td>36,576.88</td>\n",
       "    </tr>\n",
       "    <tr>\n",
       "      <th>std</th>\n",
       "      <td>210,840,789.53</td>\n",
       "      <td>507.22</td>\n",
       "      <td>747.55</td>\n",
       "      <td>0.16</td>\n",
       "      <td>90,203.17</td>\n",
       "    </tr>\n",
       "    <tr>\n",
       "      <th>min</th>\n",
       "      <td>0.00</td>\n",
       "      <td>-11.00</td>\n",
       "      <td>1.00</td>\n",
       "      <td>-0.14</td>\n",
       "      <td>0.00</td>\n",
       "    </tr>\n",
       "    <tr>\n",
       "      <th>25%</th>\n",
       "      <td>252.03</td>\n",
       "      <td>11.00</td>\n",
       "      <td>30.00</td>\n",
       "      <td>0.42</td>\n",
       "      <td>8.83</td>\n",
       "    </tr>\n",
       "    <tr>\n",
       "      <th>50%</th>\n",
       "      <td>117,016.80</td>\n",
       "      <td>23.00</td>\n",
       "      <td>41.00</td>\n",
       "      <td>0.55</td>\n",
       "      <td>2,274.85</td>\n",
       "    </tr>\n",
       "    <tr>\n",
       "      <th>75%</th>\n",
       "      <td>4,052,677.20</td>\n",
       "      <td>92.00</td>\n",
       "      <td>157.00</td>\n",
       "      <td>0.65</td>\n",
       "      <td>26,038.87</td>\n",
       "    </tr>\n",
       "    <tr>\n",
       "      <th>max</th>\n",
       "      <td>15,523,517,080.19</td>\n",
       "      <td>14,229.00</td>\n",
       "      <td>17,917.00</td>\n",
       "      <td>1.00</td>\n",
       "      <td>1,285,234.32</td>\n",
       "    </tr>\n",
       "  </tbody>\n",
       "</table>\n",
       "</div>"
      ],
      "text/plain": [
       "          minutes_spent  answered_correctly  total_questions    success  \\\n",
       "count        393,656.00          393,656.00       393,656.00 393,656.00   \n",
       "mean      33,017,084.49              160.76           257.15       0.53   \n",
       "std      210,840,789.53              507.22           747.55       0.16   \n",
       "min                0.00              -11.00             1.00      -0.14   \n",
       "25%              252.03               11.00            30.00       0.42   \n",
       "50%          117,016.80               23.00            41.00       0.55   \n",
       "75%        4,052,677.20               92.00           157.00       0.65   \n",
       "max   15,523,517,080.19           14,229.00        17,917.00       1.00   \n",
       "\n",
       "       avg_min_per_quest  \n",
       "count         393,656.00  \n",
       "mean           36,576.88  \n",
       "std            90,203.17  \n",
       "min                 0.00  \n",
       "25%                 8.83  \n",
       "50%             2,274.85  \n",
       "75%            26,038.87  \n",
       "max         1,285,234.32  "
      ]
     },
     "execution_count": 94,
     "metadata": {},
     "output_type": "execute_result"
    }
   ],
   "source": [
    "new_df.describe()"
   ]
  },
  {
   "cell_type": "markdown",
   "id": "e4c2f628",
   "metadata": {},
   "source": [
    "Посмотрели описательную статистику. Интересное наблюдение. Очень большой разброс в среднем времени, которое ученики тратят. Также в датасете явно есть аномальные данные и он требует чистки. В частности есть ученик, который потратил на учебу почти 259 млн часов"
   ]
  },
  {
   "cell_type": "code",
   "execution_count": 99,
   "id": "14f5b3f9",
   "metadata": {},
   "outputs": [
    {
     "data": {
      "text/html": [
       "<div>\n",
       "<style scoped>\n",
       "    .dataframe tbody tr th:only-of-type {\n",
       "        vertical-align: middle;\n",
       "    }\n",
       "\n",
       "    .dataframe tbody tr th {\n",
       "        vertical-align: top;\n",
       "    }\n",
       "\n",
       "    .dataframe thead th {\n",
       "        text-align: right;\n",
       "    }\n",
       "</style>\n",
       "<table border=\"1\" class=\"dataframe\">\n",
       "  <thead>\n",
       "    <tr style=\"text-align: right;\">\n",
       "      <th></th>\n",
       "      <th>minutes_spent</th>\n",
       "      <th>answered_correctly</th>\n",
       "      <th>total_questions</th>\n",
       "      <th>success</th>\n",
       "      <th>avg_min_per_quest</th>\n",
       "    </tr>\n",
       "    <tr>\n",
       "      <th>user_id</th>\n",
       "      <th></th>\n",
       "      <th></th>\n",
       "      <th></th>\n",
       "      <th></th>\n",
       "      <th></th>\n",
       "    </tr>\n",
       "  </thead>\n",
       "  <tbody>\n",
       "    <tr>\n",
       "      <th>817562598</th>\n",
       "      <td>15,523,517,080.19</td>\n",
       "      <td>10,040.00</td>\n",
       "      <td>15069</td>\n",
       "      <td>0.67</td>\n",
       "      <td>1,030,162.39</td>\n",
       "    </tr>\n",
       "  </tbody>\n",
       "</table>\n",
       "</div>"
      ],
      "text/plain": [
       "              minutes_spent  answered_correctly  total_questions  success  \\\n",
       "user_id                                                                     \n",
       "817562598 15,523,517,080.19           10,040.00            15069     0.67   \n",
       "\n",
       "           avg_min_per_quest  \n",
       "user_id                       \n",
       "817562598       1,030,162.39  "
      ]
     },
     "execution_count": 99,
     "metadata": {},
     "output_type": "execute_result"
    }
   ],
   "source": [
    "new_df.loc[new_df['minutes_spent'] == new_df['minutes_spent'].max()]"
   ]
  },
  {
   "cell_type": "markdown",
   "id": "f6ef0a4b",
   "metadata": {},
   "source": [
    "Уникальный человек!"
   ]
  },
  {
   "cell_type": "code",
   "execution_count": 103,
   "id": "8d572f3f",
   "metadata": {},
   "outputs": [
    {
     "data": {
      "text/plain": [
       "<AxesSubplot:xlabel='minutes_spent', ylabel='Count'>"
      ]
     },
     "execution_count": 103,
     "metadata": {},
     "output_type": "execute_result"
    },
    {
     "data": {
      "image/png": "[encoded data removed]",
      "text/plain": [
       "<Figure size 640x480 with 1 Axes>"
      ]
     },
     "metadata": {},
     "output_type": "display_data"
    }
   ],
   "source": [
    "sns.histplot(data = new_df, x = 'minutes_spent', bins=10)"
   ]
  },
  {
   "cell_type": "markdown",
   "id": "f8b74944",
   "metadata": {},
   "source": [
    "Удалим аномальных пользователей"
   ]
  },
  {
   "cell_type": "code",
   "execution_count": 107,
   "id": "7da985e5",
   "metadata": {},
   "outputs": [],
   "source": [
    "new_df = new_df.loc[new_df['minutes_spent'] < 1000000]"
   ]
  },
  {
   "cell_type": "code",
   "execution_count": 108,
   "id": "5306ac2f",
   "metadata": {
    "scrolled": true
   },
   "outputs": [
    {
     "data": {
      "text/html": [
       "<div>\n",
       "<style scoped>\n",
       "    .dataframe tbody tr th:only-of-type {\n",
       "        vertical-align: middle;\n",
       "    }\n",
       "\n",
       "    .dataframe tbody tr th {\n",
       "        vertical-align: top;\n",
       "    }\n",
       "\n",
       "    .dataframe thead th {\n",
       "        text-align: right;\n",
       "    }\n",
       "</style>\n",
       "<table border=\"1\" class=\"dataframe\">\n",
       "  <thead>\n",
       "    <tr style=\"text-align: right;\">\n",
       "      <th></th>\n",
       "      <th>minutes_spent</th>\n",
       "      <th>answered_correctly</th>\n",
       "      <th>total_questions</th>\n",
       "      <th>success</th>\n",
       "      <th>avg_min_per_quest</th>\n",
       "    </tr>\n",
       "    <tr>\n",
       "      <th>user_id</th>\n",
       "      <th></th>\n",
       "      <th></th>\n",
       "      <th></th>\n",
       "      <th></th>\n",
       "      <th></th>\n",
       "    </tr>\n",
       "  </thead>\n",
       "  <tbody>\n",
       "    <tr>\n",
       "      <th>115</th>\n",
       "      <td>78,295.65</td>\n",
       "      <td>32.00</td>\n",
       "      <td>46</td>\n",
       "      <td>0.70</td>\n",
       "      <td>1,702.08</td>\n",
       "    </tr>\n",
       "    <tr>\n",
       "      <th>124</th>\n",
       "      <td>183.93</td>\n",
       "      <td>7.00</td>\n",
       "      <td>30</td>\n",
       "      <td>0.23</td>\n",
       "      <td>6.13</td>\n",
       "    </tr>\n",
       "    <tr>\n",
       "      <th>2746</th>\n",
       "      <td>127.73</td>\n",
       "      <td>10.00</td>\n",
       "      <td>20</td>\n",
       "      <td>0.50</td>\n",
       "      <td>6.39</td>\n",
       "    </tr>\n",
       "    <tr>\n",
       "      <th>5382</th>\n",
       "      <td>810,946.65</td>\n",
       "      <td>81.00</td>\n",
       "      <td>128</td>\n",
       "      <td>0.63</td>\n",
       "      <td>6,335.52</td>\n",
       "    </tr>\n",
       "    <tr>\n",
       "      <th>8623</th>\n",
       "      <td>649,577.91</td>\n",
       "      <td>67.00</td>\n",
       "      <td>112</td>\n",
       "      <td>0.60</td>\n",
       "      <td>5,799.80</td>\n",
       "    </tr>\n",
       "  </tbody>\n",
       "</table>\n",
       "</div>"
      ],
      "text/plain": [
       "         minutes_spent  answered_correctly  total_questions  success  \\\n",
       "user_id                                                                \n",
       "115          78,295.65               32.00               46     0.70   \n",
       "124             183.93                7.00               30     0.23   \n",
       "2746            127.73               10.00               20     0.50   \n",
       "5382        810,946.65               81.00              128     0.63   \n",
       "8623        649,577.91               67.00              112     0.60   \n",
       "\n",
       "         avg_min_per_quest  \n",
       "user_id                     \n",
       "115               1,702.08  \n",
       "124                   6.13  \n",
       "2746                  6.39  \n",
       "5382              6,335.52  \n",
       "8623              5,799.80  "
      ]
     },
     "execution_count": 108,
     "metadata": {},
     "output_type": "execute_result"
    }
   ],
   "source": [
    "new_df.head()"
   ]
  },
  {
   "cell_type": "code",
   "execution_count": 109,
   "id": "03c54d11",
   "metadata": {
    "scrolled": false
   },
   "outputs": [
    {
     "data": {
      "text/plain": [
       "<AxesSubplot:xlabel='minutes_spent', ylabel='Count'>"
      ]
     },
     "execution_count": 109,
     "metadata": {},
     "output_type": "execute_result"
    },
    {
     "data": {
      "image/png": "[encoded data removed]",
      "text/plain": [
       "<Figure size 640x480 with 1 Axes>"
      ]
     },
     "metadata": {},
     "output_type": "display_data"
    }
   ],
   "source": [
    "sns.histplot(data = new_df, x = 'minutes_spent', bins=10)"
   ]
  },
  {
   "cell_type": "markdown",
   "id": "67c8cbe8",
   "metadata": {},
   "source": [
    "Скорее всего, пользователи, которые потратили более 100 тыс. минут являются аномальными, но пока их оставим."
   ]
  },
  {
   "cell_type": "code",
   "execution_count": 121,
   "id": "ee44101c",
   "metadata": {
    "scrolled": false
   },
   "outputs": [
    {
     "data": {
      "text/plain": [
       "<AxesSubplot:xlabel='total_questions', ylabel='Count'>"
      ]
     },
     "execution_count": 121,
     "metadata": {},
     "output_type": "execute_result"
    },
    {
     "data": {
      "image/png": "[encoded data removed]",
      "text/plain": [
       "<Figure size 640x480 with 1 Axes>"
      ]
     },
     "metadata": {},
     "output_type": "display_data"
    }
   ],
   "source": [
    "sns.histplot(data = new_df, x = 'total_questions', bins=20)"
   ]
  },
  {
   "cell_type": "markdown",
   "id": "61b9aa30",
   "metadata": {},
   "source": [
    "В основном пользователи ответили на менее 200 вопросов, но есть и \"Стахановцы\". Хотя возможно, это аномальные значения. Проверим разброс среди ответивших на менее 100 вопросов"
   ]
  },
  {
   "cell_type": "code",
   "execution_count": 124,
   "id": "f0692959",
   "metadata": {},
   "outputs": [
    {
     "data": {
      "text/plain": [
       "<AxesSubplot:xlabel='total_questions', ylabel='Count'>"
      ]
     },
     "execution_count": 124,
     "metadata": {},
     "output_type": "execute_result"
    },
    {
     "data": {
      "image/png": "[encoded data removed]",
      "text/plain": [
       "<Figure size 640x480 with 1 Axes>"
      ]
     },
     "metadata": {},
     "output_type": "display_data"
    }
   ],
   "source": [
    "sns.histplot(data = new_df.loc[new_df['total_questions']<100], x = 'total_questions', bins=10)"
   ]
  },
  {
   "cell_type": "markdown",
   "id": "554d2a93",
   "metadata": {},
   "source": [
    "Основная масса пользователей ответила примерно на 30 вопросов"
   ]
  },
  {
   "cell_type": "code",
   "execution_count": 123,
   "id": "a8fdfd7d",
   "metadata": {},
   "outputs": [
    {
     "data": {
      "text/plain": [
       "<AxesSubplot:xlabel='total_questions', ylabel='Count'>"
      ]
     },
     "execution_count": 123,
     "metadata": {},
     "output_type": "execute_result"
    },
    {
     "data": {
      "image/png": "[encoded data removed]",
      "text/plain": [
       "<Figure size 640x480 with 1 Axes>"
      ]
     },
     "metadata": {},
     "output_type": "display_data"
    }
   ],
   "source": [
    "sns.histplot(data = new_df.loc[new_df['total_questions']<50], x = 'total_questions', bins=10)"
   ]
  },
  {
   "cell_type": "code",
   "execution_count": 116,
   "id": "68f7b08b",
   "metadata": {
    "scrolled": false
   },
   "outputs": [
    {
     "data": {
      "text/plain": [
       "<seaborn.axisgrid.FacetGrid at 0x7f90bca19960>"
      ]
     },
     "execution_count": 116,
     "metadata": {},
     "output_type": "execute_result"
    },
    {
     "data": {
      "image/png": "[encoded data removed]",
      "text/plain": [
       "<Figure size 500x500 with 1 Axes>"
      ]
     },
     "metadata": {},
     "output_type": "display_data"
    }
   ],
   "source": [
    "sns.relplot(data=new_df, x='success', y=\"avg_min_per_quest\")"
   ]
  },
  {
   "cell_type": "markdown",
   "id": "3676fd71",
   "metadata": {},
   "source": [
    "На первый взгляд связь между временем, затрачиваемым в среднем для ответа на 1 вопрос и успешностью отсутствует. Посчитаем коэффициент корреляции."
   ]
  },
  {
   "cell_type": "code",
   "execution_count": 117,
   "id": "0f8b773c",
   "metadata": {},
   "outputs": [
    {
     "data": {
      "text/html": [
       "<div>\n",
       "<style scoped>\n",
       "    .dataframe tbody tr th:only-of-type {\n",
       "        vertical-align: middle;\n",
       "    }\n",
       "\n",
       "    .dataframe tbody tr th {\n",
       "        vertical-align: top;\n",
       "    }\n",
       "\n",
       "    .dataframe thead th {\n",
       "        text-align: right;\n",
       "    }\n",
       "</style>\n",
       "<table border=\"1\" class=\"dataframe\">\n",
       "  <thead>\n",
       "    <tr style=\"text-align: right;\">\n",
       "      <th></th>\n",
       "      <th>success</th>\n",
       "      <th>avg_min_per_quest</th>\n",
       "    </tr>\n",
       "  </thead>\n",
       "  <tbody>\n",
       "    <tr>\n",
       "      <th>success</th>\n",
       "      <td>1.00</td>\n",
       "      <td>0.05</td>\n",
       "    </tr>\n",
       "    <tr>\n",
       "      <th>avg_min_per_quest</th>\n",
       "      <td>0.05</td>\n",
       "      <td>1.00</td>\n",
       "    </tr>\n",
       "  </tbody>\n",
       "</table>\n",
       "</div>"
      ],
      "text/plain": [
       "                   success  avg_min_per_quest\n",
       "success               1.00               0.05\n",
       "avg_min_per_quest     0.05               1.00"
      ]
     },
     "execution_count": 117,
     "metadata": {},
     "output_type": "execute_result"
    }
   ],
   "source": [
    "new_df[['success', \"avg_min_per_quest\"]].corr()"
   ]
  },
  {
   "cell_type": "markdown",
   "id": "c398372b",
   "metadata": {},
   "source": [
    "Видно, что коэффициент корреляции Пирсона 0,05. Можно сказать, что связь между этими параметрами отсутствует."
   ]
  },
  {
   "cell_type": "markdown",
   "id": "5ff74e36",
   "metadata": {},
   "source": [
    "Дальше можно анализировать до бесконечности. Если требуется проверить какой-то дополнительный навык (детальные критерии оценивания нам не сообщили), готов доработать код"
   ]
  }
 ],
 "metadata": {
  "kernelspec": {
   "display_name": "Python 3 (ipykernel)",
   "language": "python",
   "name": "python3"
  },
  "language_info": {
   "codemirror_mode": {
    "name": "ipython",
    "version": 3
   },
   "file_extension": ".py",
   "mimetype": "text/x-python",
   "name": "python",
   "nbconvert_exporter": "python",
   "pygments_lexer": "ipython3",
   "version": "3.10.4"
  }
 },
 "nbformat": 4,
 "nbformat_minor": 5
}
