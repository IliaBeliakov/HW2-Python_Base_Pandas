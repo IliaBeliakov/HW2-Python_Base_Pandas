{
 "cells": [
  {
   "cell_type": "markdown",
   "id": "0e5e9ab9",
   "metadata": {},
   "source": [
    "# Домашнее задание 3"
   ]
  },
  {
   "cell_type": "markdown",
   "id": "ad4745f6",
   "metadata": {},
   "source": [
    "## ЗАДАЧА\n",
    "В приложенных файлах вы увидите данные по прохождению студентами тестов на образовательной платформе. Такие данные могут быть использованы для построения персонализированных ИИ-ассистентов для поддержки обучения студента. На текущем этапе сосредоточимся на начальном этапе — сборе и подготовке данных."
   ]
  },
  {
   "cell_type": "markdown",
   "id": "65a0b66c",
   "metadata": {},
   "source": [
    "## ВАМ НЕОБХОДИМО\n",
    "Используя библиотеку pandas (или аналоги), проанализировать как можно больше характеристик, влияющих на успеваемость студентов."
   ]
  },
  {
   "cell_type": "markdown",
   "id": "5ec0708a",
   "metadata": {},
   "source": [
    "## ОПИСАНИЕ ДАННЫХ\n",
    "Для выполнения задания вам необходимы файлы train.csv, lectures.csv, questions.csv.\n",
    "\n",
    "TRAIN.CSV\n",
    "* row_id: (int64) ID code for the row.\n",
    "* timestamp: (int64) the time in milliseconds between this user interaction and the first event completion from that user.\n",
    "* user_id: (int32) ID code for the user.\n",
    "* content_id: (int16) ID code for the user interaction\n",
    "* content_type_id: (int8) 0 if the event was a question being posed to the user, 1 if the event was the user watching a lecture.\n",
    "* task_container_id: (int16) Id code for the batch of questions or lectures. For example, a user might see three questions in a row before seeing the explanations for any of them. Those three would all share a task_container_id.\n",
    "* user_answer: (int8) the user's answer to the question, if any. Read -1 as null, for lectures.\n",
    "* answered_correctly: (int8) if the user responded correctly. Read -1 as null, for lectures.\n",
    "* prior_question_elapsed_time: (float32) The average time in milliseconds it took a user to answer each question in the previous question bundle, ignoring any lectures in between. Is null for a user's first question bundle or lecture. Note that the time is the average time a user took to solve each question in the previous bundle.\n",
    "* prior_question_had_explanation: (bool) Whether or not the user saw an explanation and the correct response(s) after answering the previous question bundle, ignoring any lectures in between. The value is shared across a single question bundle, and is null for a user's first question bundle or lecture. Typically the first several questions a user sees were part of an onboarding diagnostic test where they did not get any feedback.\n",
    " \n",
    "\n",
    "QUESTIONS.CSV: METADATA FOR THE QUESTIONS POSED TO USERS.\n",
    "* question_id: foreign key for the train/test content_id column, when the content type is question (0).\n",
    "* bundle_id: code for which questions are served together.\n",
    "* correct_answer: the answer to the question. Can be compared with the train user_answer column to check if the user was right.\n",
    "* part: the relevant section of the TOEIC test.\n",
    "* tags: one or more detailed tag codes for the question. The meaning of the tags will not be provided, but these codes are sufficient for clustering the questions together.\n",
    " \n",
    "\n",
    "LECTURES.CSV: METADATA FOR THE LECTURES WATCHED BY USERS AS THEY PROGRESS IN THEIR EDUCATION.\n",
    "* lecture_id: foreign key for the train/test content_id column, when the content type is lecture (1).\n",
    "* part: top level category code for the lecture.\n",
    "* tag: one tag codes for the lecture. The meaning of the tags will not be provided, but these codes are sufficient for clustering the lectures together.\n",
    "* type_of: brief description of the core purpose of the lecture."
   ]
  },
  {
   "cell_type": "markdown",
   "id": "27ff7fab",
   "metadata": {},
   "source": [
    "## Шесть шагов для создания успешной модели машинного обучения\n",
    "* Уточните назначение модели.\n",
    "* Задайте необходимые критерии.\n",
    "* Идеальные новые функции.\n",
    "* Стройте функции как входные данные.\n",
    "* Изучите влияние.\n",
    "* Уточните функции."
   ]
  },
  {
   "cell_type": "code",
   "execution_count": 1,
   "id": "47998225",
   "metadata": {},
   "outputs": [],
   "source": [
    "import pandas as pd\n",
    "import numpy as np\n",
    "import matplotlib.pyplot as plt\n",
    "import seaborn as sns\n",
    "import time"
   ]
  },
  {
   "cell_type": "code",
   "execution_count": 2,
   "id": "626932e0",
   "metadata": {},
   "outputs": [
    {
     "name": "stdout",
     "output_type": "stream",
     "text": [
      "49.90296697616577\n"
     ]
    }
   ],
   "source": [
    "start = time.time()\n",
    "df_train = pd.read_csv('data/train.csv')\n",
    "end = time.time()\n",
    "print(end-start)"
   ]
  },
  {
   "cell_type": "markdown",
   "id": "03c36f5e",
   "metadata": {},
   "source": [
    "Вывод: датасет очень большой и загружается в память почти 50 сек"
   ]
  },
  {
   "cell_type": "code",
   "execution_count": 3,
   "id": "f9d5b0c1",
   "metadata": {
    "scrolled": true
   },
   "outputs": [
    {
     "data": {
      "text/html": [
       "<div>\n",
       "<style scoped>\n",
       "    .dataframe tbody tr th:only-of-type {\n",
       "        vertical-align: middle;\n",
       "    }\n",
       "\n",
       "    .dataframe tbody tr th {\n",
       "        vertical-align: top;\n",
       "    }\n",
       "\n",
       "    .dataframe thead th {\n",
       "        text-align: right;\n",
       "    }\n",
       "</style>\n",
       "<table border=\"1\" class=\"dataframe\">\n",
       "  <thead>\n",
       "    <tr style=\"text-align: right;\">\n",
       "      <th></th>\n",
       "      <th>row_id</th>\n",
       "      <th>timestamp</th>\n",
       "      <th>user_id</th>\n",
       "      <th>content_id</th>\n",
       "      <th>content_type_id</th>\n",
       "      <th>task_container_id</th>\n",
       "      <th>user_answer</th>\n",
       "      <th>answered_correctly</th>\n",
       "      <th>prior_question_elapsed_time</th>\n",
       "      <th>prior_question_had_explanation</th>\n",
       "    </tr>\n",
       "  </thead>\n",
       "  <tbody>\n",
       "    <tr>\n",
       "      <th>0</th>\n",
       "      <td>0</td>\n",
       "      <td>0</td>\n",
       "      <td>115</td>\n",
       "      <td>5692</td>\n",
       "      <td>0</td>\n",
       "      <td>1</td>\n",
       "      <td>3</td>\n",
       "      <td>1</td>\n",
       "      <td>NaN</td>\n",
       "      <td>NaN</td>\n",
       "    </tr>\n",
       "    <tr>\n",
       "      <th>1</th>\n",
       "      <td>1</td>\n",
       "      <td>56943</td>\n",
       "      <td>115</td>\n",
       "      <td>5716</td>\n",
       "      <td>0</td>\n",
       "      <td>2</td>\n",
       "      <td>2</td>\n",
       "      <td>1</td>\n",
       "      <td>37000.0</td>\n",
       "      <td>False</td>\n",
       "    </tr>\n",
       "    <tr>\n",
       "      <th>2</th>\n",
       "      <td>2</td>\n",
       "      <td>118363</td>\n",
       "      <td>115</td>\n",
       "      <td>128</td>\n",
       "      <td>0</td>\n",
       "      <td>0</td>\n",
       "      <td>0</td>\n",
       "      <td>1</td>\n",
       "      <td>55000.0</td>\n",
       "      <td>False</td>\n",
       "    </tr>\n",
       "    <tr>\n",
       "      <th>3</th>\n",
       "      <td>3</td>\n",
       "      <td>131167</td>\n",
       "      <td>115</td>\n",
       "      <td>7860</td>\n",
       "      <td>0</td>\n",
       "      <td>3</td>\n",
       "      <td>0</td>\n",
       "      <td>1</td>\n",
       "      <td>19000.0</td>\n",
       "      <td>False</td>\n",
       "    </tr>\n",
       "    <tr>\n",
       "      <th>4</th>\n",
       "      <td>4</td>\n",
       "      <td>137965</td>\n",
       "      <td>115</td>\n",
       "      <td>7922</td>\n",
       "      <td>0</td>\n",
       "      <td>4</td>\n",
       "      <td>1</td>\n",
       "      <td>1</td>\n",
       "      <td>11000.0</td>\n",
       "      <td>False</td>\n",
       "    </tr>\n",
       "  </tbody>\n",
       "</table>\n",
       "</div>"
      ],
      "text/plain": [
       "   row_id  timestamp  user_id  content_id  content_type_id  task_container_id  \\\n",
       "0       0          0      115        5692                0                  1   \n",
       "1       1      56943      115        5716                0                  2   \n",
       "2       2     118363      115         128                0                  0   \n",
       "3       3     131167      115        7860                0                  3   \n",
       "4       4     137965      115        7922                0                  4   \n",
       "\n",
       "   user_answer  answered_correctly  prior_question_elapsed_time  \\\n",
       "0            3                   1                          NaN   \n",
       "1            2                   1                      37000.0   \n",
       "2            0                   1                      55000.0   \n",
       "3            0                   1                      19000.0   \n",
       "4            1                   1                      11000.0   \n",
       "\n",
       "  prior_question_had_explanation  \n",
       "0                            NaN  \n",
       "1                          False  \n",
       "2                          False  \n",
       "3                          False  \n",
       "4                          False  "
      ]
     },
     "execution_count": 3,
     "metadata": {},
     "output_type": "execute_result"
    }
   ],
   "source": [
    "df_train.head()"
   ]
  },
  {
   "cell_type": "code",
   "execution_count": 4,
   "id": "9e877b6e",
   "metadata": {
    "scrolled": true
   },
   "outputs": [
    {
     "name": "stdout",
     "output_type": "stream",
     "text": [
      "<class 'pandas.core.frame.DataFrame'>\n",
      "RangeIndex: 101230332 entries, 0 to 101230331\n",
      "Data columns (total 10 columns):\n",
      " #   Column                          Dtype  \n",
      "---  ------                          -----  \n",
      " 0   row_id                          int64  \n",
      " 1   timestamp                       int64  \n",
      " 2   user_id                         int64  \n",
      " 3   content_id                      int64  \n",
      " 4   content_type_id                 int64  \n",
      " 5   task_container_id               int64  \n",
      " 6   user_answer                     int64  \n",
      " 7   answered_correctly              int64  \n",
      " 8   prior_question_elapsed_time     float64\n",
      " 9   prior_question_had_explanation  object \n",
      "dtypes: float64(1), int64(8), object(1)\n",
      "memory usage: 7.5+ GB\n"
     ]
    }
   ],
   "source": [
    "df_train.info()"
   ]
  },
  {
   "cell_type": "markdown",
   "id": "42c01860",
   "metadata": {},
   "source": [
    "Вывод: датасет содержит 101 млн наблюдений и занимает в памяти 7.5 Гб. Можно попопробовать оптимизировать датасет проверив количество уникальных значений в фичах (признаках)."
   ]
  },
  {
   "cell_type": "code",
   "execution_count": 14,
   "id": "59f8c4bd",
   "metadata": {},
   "outputs": [
    {
     "name": "stdout",
     "output_type": "stream",
     "text": [
      "393656\n",
      "2147482888\n"
     ]
    }
   ],
   "source": [
    "print(df_train['user_id'].nunique())\n",
    "print(df_train['user_id'].max())"
   ]
  },
  {
   "cell_type": "code",
   "execution_count": 15,
   "id": "f8494cb2",
   "metadata": {},
   "outputs": [
    {
     "name": "stdout",
     "output_type": "stream",
     "text": [
      "13782\n",
      "32736\n"
     ]
    }
   ],
   "source": [
    "print(df_train['content_id'].nunique())\n",
    "print(df_train['content_id'].max())"
   ]
  },
  {
   "cell_type": "code",
   "execution_count": 16,
   "id": "789e2764",
   "metadata": {},
   "outputs": [
    {
     "name": "stdout",
     "output_type": "stream",
     "text": [
      "2\n",
      "1\n"
     ]
    }
   ],
   "source": [
    "print(df_train['content_type_id'].nunique())\n",
    "print(df_train['content_type_id'].max())"
   ]
  },
  {
   "cell_type": "code",
   "execution_count": 17,
   "id": "2adbc9b7",
   "metadata": {},
   "outputs": [
    {
     "name": "stdout",
     "output_type": "stream",
     "text": [
      "10000\n",
      "9999\n"
     ]
    }
   ],
   "source": [
    "print(df_train['task_container_id'].nunique())\n",
    "print(df_train['task_container_id'].max())"
   ]
  },
  {
   "cell_type": "code",
   "execution_count": 18,
   "id": "419fb4b3",
   "metadata": {},
   "outputs": [
    {
     "name": "stdout",
     "output_type": "stream",
     "text": [
      "5\n",
      "3\n"
     ]
    }
   ],
   "source": [
    "print(df_train['user_answer'].nunique())\n",
    "print(df_train['user_answer'].max())"
   ]
  },
  {
   "cell_type": "code",
   "execution_count": 19,
   "id": "98ae94d7",
   "metadata": {},
   "outputs": [
    {
     "name": "stdout",
     "output_type": "stream",
     "text": [
      "3\n",
      "1\n"
     ]
    }
   ],
   "source": [
    "print(df_train['answered_correctly'].nunique())\n",
    "print(df_train['answered_correctly'].max())"
   ]
  },
  {
   "cell_type": "code",
   "execution_count": 20,
   "id": "dac9d904",
   "metadata": {},
   "outputs": [
    {
     "name": "stdout",
     "output_type": "stream",
     "text": [
      "2\n"
     ]
    }
   ],
   "source": [
    "print(df_train['prior_question_had_explanation'].nunique())"
   ]
  },
  {
   "cell_type": "markdown",
   "id": "45f1df3a",
   "metadata": {},
   "source": [
    "Столбец row_id является индексом строк и его можно удалить.\n",
    "Фичи 2-7 являются int64 и поэтому занимают много места в памяти. Судя по разряду чисел и количеству уникальных значений возможны следующие преобразования:\n",
    "1. user_id - int32\n",
    "2. content_id - int16\n",
    "3. content_type_id - int8\n",
    "4. task_container_id - int16\n",
    "5. user_answer - int8\n",
    "6. answered_correctly - int8\n",
    "7. prior_question_had_explanation - bool"
   ]
  },
  {
   "cell_type": "markdown",
   "id": "0809683f",
   "metadata": {},
   "source": [
    "## Оптимизируем датафрейм\n",
    "Преобразуем типы данных для фичей"
   ]
  },
  {
   "cell_type": "code",
   "execution_count": 21,
   "id": "2af9307d",
   "metadata": {},
   "outputs": [],
   "source": [
    "pd.options.display.float_format ='{:,.2f}'.format"
   ]
  },
  {
   "cell_type": "code",
   "execution_count": 22,
   "id": "f7d106aa",
   "metadata": {},
   "outputs": [],
   "source": [
    "df_train['user_id'] = df_train['user_id'].astype('int32')\n",
    "df_train['content_id'] = df_train['content_id'].astype('int16')\n",
    "df_train['content_type_id'] = df_train['content_type_id'].astype('int8')\n",
    "df_train['task_container_id'] = df_train['task_container_id'].astype('int16')\n",
    "df_train['user_answer'] = df_train['user_answer'].astype('int8')\n",
    "df_train['answered_correctly'] = df_train['answered_correctly'].astype('int8')\n",
    "df_train['prior_question_had_explanation'] = df_train['prior_question_had_explanation'].astype('bool')"
   ]
  },
  {
   "cell_type": "markdown",
   "id": "5429be37",
   "metadata": {},
   "source": [
    "Удаляем столбец row_id"
   ]
  },
  {
   "cell_type": "code",
   "execution_count": 25,
   "id": "c0e1c065",
   "metadata": {},
   "outputs": [],
   "source": [
    "df_train.drop('row_id', axis=1, inplace=True)"
   ]
  },
  {
   "cell_type": "code",
   "execution_count": 26,
   "id": "4186b1da",
   "metadata": {
    "scrolled": true
   },
   "outputs": [
    {
     "name": "stdout",
     "output_type": "stream",
     "text": [
      "<class 'pandas.core.frame.DataFrame'>\n",
      "RangeIndex: 101230332 entries, 0 to 101230331\n",
      "Data columns (total 9 columns):\n",
      " #   Column                          Dtype  \n",
      "---  ------                          -----  \n",
      " 0   timestamp                       int64  \n",
      " 1   user_id                         int32  \n",
      " 2   content_id                      int16  \n",
      " 3   content_type_id                 int8   \n",
      " 4   task_container_id               int16  \n",
      " 5   user_answer                     int8   \n",
      " 6   answered_correctly              int8   \n",
      " 7   prior_question_elapsed_time     float64\n",
      " 8   prior_question_had_explanation  bool   \n",
      "dtypes: bool(1), float64(1), int16(2), int32(1), int64(1), int8(3)\n",
      "memory usage: 2.6 GB\n"
     ]
    }
   ],
   "source": [
    "df_train.info()"
   ]
  },
  {
   "cell_type": "code",
   "execution_count": 27,
   "id": "7852d1b2",
   "metadata": {},
   "outputs": [
    {
     "data": {
      "text/html": [
       "<div>\n",
       "<style scoped>\n",
       "    .dataframe tbody tr th:only-of-type {\n",
       "        vertical-align: middle;\n",
       "    }\n",
       "\n",
       "    .dataframe tbody tr th {\n",
       "        vertical-align: top;\n",
       "    }\n",
       "\n",
       "    .dataframe thead th {\n",
       "        text-align: right;\n",
       "    }\n",
       "</style>\n",
       "<table border=\"1\" class=\"dataframe\">\n",
       "  <thead>\n",
       "    <tr style=\"text-align: right;\">\n",
       "      <th></th>\n",
       "      <th>timestamp</th>\n",
       "      <th>user_id</th>\n",
       "      <th>content_id</th>\n",
       "      <th>content_type_id</th>\n",
       "      <th>task_container_id</th>\n",
       "      <th>user_answer</th>\n",
       "      <th>answered_correctly</th>\n",
       "      <th>prior_question_elapsed_time</th>\n",
       "      <th>prior_question_had_explanation</th>\n",
       "    </tr>\n",
       "  </thead>\n",
       "  <tbody>\n",
       "    <tr>\n",
       "      <th>0</th>\n",
       "      <td>0</td>\n",
       "      <td>115</td>\n",
       "      <td>5692</td>\n",
       "      <td>0</td>\n",
       "      <td>1</td>\n",
       "      <td>3</td>\n",
       "      <td>1</td>\n",
       "      <td>NaN</td>\n",
       "      <td>True</td>\n",
       "    </tr>\n",
       "    <tr>\n",
       "      <th>1</th>\n",
       "      <td>56943</td>\n",
       "      <td>115</td>\n",
       "      <td>5716</td>\n",
       "      <td>0</td>\n",
       "      <td>2</td>\n",
       "      <td>2</td>\n",
       "      <td>1</td>\n",
       "      <td>37,000.00</td>\n",
       "      <td>False</td>\n",
       "    </tr>\n",
       "    <tr>\n",
       "      <th>2</th>\n",
       "      <td>118363</td>\n",
       "      <td>115</td>\n",
       "      <td>128</td>\n",
       "      <td>0</td>\n",
       "      <td>0</td>\n",
       "      <td>0</td>\n",
       "      <td>1</td>\n",
       "      <td>55,000.00</td>\n",
       "      <td>False</td>\n",
       "    </tr>\n",
       "    <tr>\n",
       "      <th>3</th>\n",
       "      <td>131167</td>\n",
       "      <td>115</td>\n",
       "      <td>7860</td>\n",
       "      <td>0</td>\n",
       "      <td>3</td>\n",
       "      <td>0</td>\n",
       "      <td>1</td>\n",
       "      <td>19,000.00</td>\n",
       "      <td>False</td>\n",
       "    </tr>\n",
       "    <tr>\n",
       "      <th>4</th>\n",
       "      <td>137965</td>\n",
       "      <td>115</td>\n",
       "      <td>7922</td>\n",
       "      <td>0</td>\n",
       "      <td>4</td>\n",
       "      <td>1</td>\n",
       "      <td>1</td>\n",
       "      <td>11,000.00</td>\n",
       "      <td>False</td>\n",
       "    </tr>\n",
       "  </tbody>\n",
       "</table>\n",
       "</div>"
      ],
      "text/plain": [
       "   timestamp  user_id  content_id  content_type_id  task_container_id  \\\n",
       "0          0      115        5692                0                  1   \n",
       "1      56943      115        5716                0                  2   \n",
       "2     118363      115         128                0                  0   \n",
       "3     131167      115        7860                0                  3   \n",
       "4     137965      115        7922                0                  4   \n",
       "\n",
       "   user_answer  answered_correctly  prior_question_elapsed_time  \\\n",
       "0            3                   1                          NaN   \n",
       "1            2                   1                    37,000.00   \n",
       "2            0                   1                    55,000.00   \n",
       "3            0                   1                    19,000.00   \n",
       "4            1                   1                    11,000.00   \n",
       "\n",
       "   prior_question_had_explanation  \n",
       "0                            True  \n",
       "1                           False  \n",
       "2                           False  \n",
       "3                           False  \n",
       "4                           False  "
      ]
     },
     "execution_count": 27,
     "metadata": {},
     "output_type": "execute_result"
    }
   ],
   "source": [
    "df_train.head()"
   ]
  },
  {
   "cell_type": "markdown",
   "id": "ec1ba93c",
   "metadata": {},
   "source": [
    "Размер датасета в памяти сократился с 7.5 Гб до 2.6 Гб. Почти в 3 раза!"
   ]
  },
  {
   "cell_type": "markdown",
   "id": "f244ad89",
   "metadata": {},
   "source": [
    "## Аналогично оптимизируем остальные датасеты"
   ]
  },
  {
   "cell_type": "code",
   "execution_count": 28,
   "id": "571bb8f2",
   "metadata": {},
   "outputs": [
    {
     "name": "stdout",
     "output_type": "stream",
     "text": [
      "0.019655227661132812\n"
     ]
    }
   ],
   "source": [
    "start = time.time()\n",
    "df_questions = pd.read_csv('data/QUESTIONS.csv')\n",
    "end = time.time()\n",
    "print(end-start)"
   ]
  },
  {
   "cell_type": "code",
   "execution_count": 29,
   "id": "3723b5bb",
   "metadata": {},
   "outputs": [
    {
     "data": {
      "text/html": [
       "<div>\n",
       "<style scoped>\n",
       "    .dataframe tbody tr th:only-of-type {\n",
       "        vertical-align: middle;\n",
       "    }\n",
       "\n",
       "    .dataframe tbody tr th {\n",
       "        vertical-align: top;\n",
       "    }\n",
       "\n",
       "    .dataframe thead th {\n",
       "        text-align: right;\n",
       "    }\n",
       "</style>\n",
       "<table border=\"1\" class=\"dataframe\">\n",
       "  <thead>\n",
       "    <tr style=\"text-align: right;\">\n",
       "      <th></th>\n",
       "      <th>question_id</th>\n",
       "      <th>bundle_id</th>\n",
       "      <th>correct_answer</th>\n",
       "      <th>part</th>\n",
       "      <th>tags</th>\n",
       "    </tr>\n",
       "  </thead>\n",
       "  <tbody>\n",
       "    <tr>\n",
       "      <th>0</th>\n",
       "      <td>0</td>\n",
       "      <td>0</td>\n",
       "      <td>0</td>\n",
       "      <td>1</td>\n",
       "      <td>51 131 162 38</td>\n",
       "    </tr>\n",
       "    <tr>\n",
       "      <th>1</th>\n",
       "      <td>1</td>\n",
       "      <td>1</td>\n",
       "      <td>1</td>\n",
       "      <td>1</td>\n",
       "      <td>131 36 81</td>\n",
       "    </tr>\n",
       "    <tr>\n",
       "      <th>2</th>\n",
       "      <td>2</td>\n",
       "      <td>2</td>\n",
       "      <td>0</td>\n",
       "      <td>1</td>\n",
       "      <td>131 101 162 92</td>\n",
       "    </tr>\n",
       "    <tr>\n",
       "      <th>3</th>\n",
       "      <td>3</td>\n",
       "      <td>3</td>\n",
       "      <td>0</td>\n",
       "      <td>1</td>\n",
       "      <td>131 149 162 29</td>\n",
       "    </tr>\n",
       "    <tr>\n",
       "      <th>4</th>\n",
       "      <td>4</td>\n",
       "      <td>4</td>\n",
       "      <td>3</td>\n",
       "      <td>1</td>\n",
       "      <td>131 5 162 38</td>\n",
       "    </tr>\n",
       "  </tbody>\n",
       "</table>\n",
       "</div>"
      ],
      "text/plain": [
       "   question_id  bundle_id  correct_answer  part            tags\n",
       "0            0          0               0     1   51 131 162 38\n",
       "1            1          1               1     1       131 36 81\n",
       "2            2          2               0     1  131 101 162 92\n",
       "3            3          3               0     1  131 149 162 29\n",
       "4            4          4               3     1    131 5 162 38"
      ]
     },
     "execution_count": 29,
     "metadata": {},
     "output_type": "execute_result"
    }
   ],
   "source": [
    "df_questions.head()"
   ]
  },
  {
   "cell_type": "code",
   "execution_count": 30,
   "id": "94f90527",
   "metadata": {
    "scrolled": true
   },
   "outputs": [
    {
     "name": "stdout",
     "output_type": "stream",
     "text": [
      "<class 'pandas.core.frame.DataFrame'>\n",
      "RangeIndex: 13523 entries, 0 to 13522\n",
      "Data columns (total 5 columns):\n",
      " #   Column          Non-Null Count  Dtype \n",
      "---  ------          --------------  ----- \n",
      " 0   question_id     13523 non-null  int64 \n",
      " 1   bundle_id       13523 non-null  int64 \n",
      " 2   correct_answer  13523 non-null  int64 \n",
      " 3   part            13523 non-null  int64 \n",
      " 4   tags            13522 non-null  object\n",
      "dtypes: int64(4), object(1)\n",
      "memory usage: 528.4+ KB\n"
     ]
    }
   ],
   "source": [
    "df_questions.info()"
   ]
  },
  {
   "cell_type": "code",
   "execution_count": 31,
   "id": "8a7f7ff7",
   "metadata": {},
   "outputs": [
    {
     "name": "stdout",
     "output_type": "stream",
     "text": [
      "13523\n",
      "13522\n"
     ]
    }
   ],
   "source": [
    "print(df_questions['question_id'].nunique())\n",
    "print(df_questions['question_id'].max())"
   ]
  },
  {
   "cell_type": "code",
   "execution_count": 32,
   "id": "32add5c0",
   "metadata": {},
   "outputs": [
    {
     "name": "stdout",
     "output_type": "stream",
     "text": [
      "9765\n",
      "13522\n"
     ]
    }
   ],
   "source": [
    "print(df_questions['bundle_id'].nunique())\n",
    "print(df_questions['bundle_id'].max())"
   ]
  },
  {
   "cell_type": "code",
   "execution_count": 33,
   "id": "d2fcffcf",
   "metadata": {},
   "outputs": [
    {
     "name": "stdout",
     "output_type": "stream",
     "text": [
      "4\n",
      "3\n"
     ]
    }
   ],
   "source": [
    "print(df_questions['correct_answer'].nunique())\n",
    "print(df_questions['correct_answer'].max())"
   ]
  },
  {
   "cell_type": "code",
   "execution_count": 34,
   "id": "591faa97",
   "metadata": {},
   "outputs": [
    {
     "name": "stdout",
     "output_type": "stream",
     "text": [
      "7\n",
      "7\n"
     ]
    }
   ],
   "source": [
    "print(df_questions['part'].nunique())\n",
    "print(df_questions['part'].max())"
   ]
  },
  {
   "cell_type": "code",
   "execution_count": 35,
   "id": "0daa42c9",
   "metadata": {},
   "outputs": [],
   "source": [
    "df_questions['question_id'] = df_questions['question_id'].astype('int16')\n",
    "df_questions['bundle_id'] = df_questions['bundle_id'].astype('int16')\n",
    "df_questions['correct_answer'] = df_questions['correct_answer'].astype('int8')\n",
    "df_questions['part'] = df_questions['part'].astype('int8')"
   ]
  },
  {
   "cell_type": "code",
   "execution_count": 36,
   "id": "e2e4f4a8",
   "metadata": {},
   "outputs": [
    {
     "name": "stdout",
     "output_type": "stream",
     "text": [
      "<class 'pandas.core.frame.DataFrame'>\n",
      "RangeIndex: 13523 entries, 0 to 13522\n",
      "Data columns (total 5 columns):\n",
      " #   Column          Non-Null Count  Dtype \n",
      "---  ------          --------------  ----- \n",
      " 0   question_id     13523 non-null  int16 \n",
      " 1   bundle_id       13523 non-null  int16 \n",
      " 2   correct_answer  13523 non-null  int8  \n",
      " 3   part            13523 non-null  int8  \n",
      " 4   tags            13522 non-null  object\n",
      "dtypes: int16(2), int8(2), object(1)\n",
      "memory usage: 185.0+ KB\n"
     ]
    }
   ],
   "source": [
    "df_questions.info()"
   ]
  },
  {
   "cell_type": "code",
   "execution_count": 37,
   "id": "a4a664f3",
   "metadata": {},
   "outputs": [
    {
     "name": "stdout",
     "output_type": "stream",
     "text": [
      "0.010395050048828125\n"
     ]
    }
   ],
   "source": [
    "start = time.time()\n",
    "df_lectures = pd.read_csv('data/LECTURES.csv')\n",
    "end = time.time()\n",
    "print(end-start)"
   ]
  },
  {
   "cell_type": "code",
   "execution_count": 38,
   "id": "7e6ceaed",
   "metadata": {},
   "outputs": [
    {
     "data": {
      "text/html": [
       "<div>\n",
       "<style scoped>\n",
       "    .dataframe tbody tr th:only-of-type {\n",
       "        vertical-align: middle;\n",
       "    }\n",
       "\n",
       "    .dataframe tbody tr th {\n",
       "        vertical-align: top;\n",
       "    }\n",
       "\n",
       "    .dataframe thead th {\n",
       "        text-align: right;\n",
       "    }\n",
       "</style>\n",
       "<table border=\"1\" class=\"dataframe\">\n",
       "  <thead>\n",
       "    <tr style=\"text-align: right;\">\n",
       "      <th></th>\n",
       "      <th>lecture_id</th>\n",
       "      <th>tag</th>\n",
       "      <th>part</th>\n",
       "      <th>type_of</th>\n",
       "    </tr>\n",
       "  </thead>\n",
       "  <tbody>\n",
       "    <tr>\n",
       "      <th>0</th>\n",
       "      <td>89</td>\n",
       "      <td>159</td>\n",
       "      <td>5</td>\n",
       "      <td>concept</td>\n",
       "    </tr>\n",
       "    <tr>\n",
       "      <th>1</th>\n",
       "      <td>100</td>\n",
       "      <td>70</td>\n",
       "      <td>1</td>\n",
       "      <td>concept</td>\n",
       "    </tr>\n",
       "    <tr>\n",
       "      <th>2</th>\n",
       "      <td>185</td>\n",
       "      <td>45</td>\n",
       "      <td>6</td>\n",
       "      <td>concept</td>\n",
       "    </tr>\n",
       "    <tr>\n",
       "      <th>3</th>\n",
       "      <td>192</td>\n",
       "      <td>79</td>\n",
       "      <td>5</td>\n",
       "      <td>solving question</td>\n",
       "    </tr>\n",
       "    <tr>\n",
       "      <th>4</th>\n",
       "      <td>317</td>\n",
       "      <td>156</td>\n",
       "      <td>5</td>\n",
       "      <td>solving question</td>\n",
       "    </tr>\n",
       "  </tbody>\n",
       "</table>\n",
       "</div>"
      ],
      "text/plain": [
       "   lecture_id  tag  part           type_of\n",
       "0          89  159     5           concept\n",
       "1         100   70     1           concept\n",
       "2         185   45     6           concept\n",
       "3         192   79     5  solving question\n",
       "4         317  156     5  solving question"
      ]
     },
     "execution_count": 38,
     "metadata": {},
     "output_type": "execute_result"
    }
   ],
   "source": [
    "df_lectures.head()"
   ]
  },
  {
   "cell_type": "code",
   "execution_count": 39,
   "id": "2dc7a819",
   "metadata": {},
   "outputs": [
    {
     "name": "stdout",
     "output_type": "stream",
     "text": [
      "<class 'pandas.core.frame.DataFrame'>\n",
      "RangeIndex: 418 entries, 0 to 417\n",
      "Data columns (total 4 columns):\n",
      " #   Column      Non-Null Count  Dtype \n",
      "---  ------      --------------  ----- \n",
      " 0   lecture_id  418 non-null    int64 \n",
      " 1   tag         418 non-null    int64 \n",
      " 2   part        418 non-null    int64 \n",
      " 3   type_of     418 non-null    object\n",
      "dtypes: int64(3), object(1)\n",
      "memory usage: 13.2+ KB\n"
     ]
    }
   ],
   "source": [
    "df_lectures.info()"
   ]
  },
  {
   "cell_type": "code",
   "execution_count": 40,
   "id": "cb33d58f",
   "metadata": {},
   "outputs": [
    {
     "name": "stdout",
     "output_type": "stream",
     "text": [
      "418\n",
      "32736\n"
     ]
    }
   ],
   "source": [
    "print(df_lectures['lecture_id'].nunique())\n",
    "print(df_lectures['lecture_id'].max())"
   ]
  },
  {
   "cell_type": "code",
   "execution_count": 41,
   "id": "56010979",
   "metadata": {},
   "outputs": [
    {
     "name": "stdout",
     "output_type": "stream",
     "text": [
      "151\n",
      "187\n"
     ]
    }
   ],
   "source": [
    "print(df_lectures['tag'].nunique())\n",
    "print(df_lectures['tag'].max())"
   ]
  },
  {
   "cell_type": "code",
   "execution_count": 42,
   "id": "cc5ba130",
   "metadata": {},
   "outputs": [
    {
     "name": "stdout",
     "output_type": "stream",
     "text": [
      "7\n",
      "7\n"
     ]
    }
   ],
   "source": [
    "print(df_lectures['part'].nunique())\n",
    "print(df_lectures['part'].max())"
   ]
  },
  {
   "cell_type": "code",
   "execution_count": 43,
   "id": "591d5df0",
   "metadata": {},
   "outputs": [
    {
     "name": "stdout",
     "output_type": "stream",
     "text": [
      "4\n"
     ]
    }
   ],
   "source": [
    "print(df_lectures['type_of'].nunique())"
   ]
  },
  {
   "cell_type": "code",
   "execution_count": 44,
   "id": "086a4f25",
   "metadata": {},
   "outputs": [],
   "source": [
    "df_lectures['lecture_id'] = df_lectures['lecture_id'].astype('int16')\n",
    "df_lectures['tag'] = df_lectures['tag'].astype('int16')\n",
    "df_lectures['part'] = df_lectures['part'].astype('int8')"
   ]
  },
  {
   "cell_type": "code",
   "execution_count": 45,
   "id": "d77c509e",
   "metadata": {},
   "outputs": [
    {
     "name": "stdout",
     "output_type": "stream",
     "text": [
      "<class 'pandas.core.frame.DataFrame'>\n",
      "RangeIndex: 418 entries, 0 to 417\n",
      "Data columns (total 4 columns):\n",
      " #   Column      Non-Null Count  Dtype \n",
      "---  ------      --------------  ----- \n",
      " 0   lecture_id  418 non-null    int16 \n",
      " 1   tag         418 non-null    int16 \n",
      " 2   part        418 non-null    int8  \n",
      " 3   type_of     418 non-null    object\n",
      "dtypes: int16(2), int8(1), object(1)\n",
      "memory usage: 5.4+ KB\n"
     ]
    }
   ],
   "source": [
    "df_lectures.info()"
   ]
  },
  {
   "cell_type": "code",
   "execution_count": null,
   "id": "be4f18c0",
   "metadata": {},
   "outputs": [],
   "source": []
  }
 ],
 "metadata": {
  "kernelspec": {
   "display_name": "Python 3 (ipykernel)",
   "language": "python",
   "name": "python3"
  },
  "language_info": {
   "codemirror_mode": {
    "name": "ipython",
    "version": 3
   },
   "file_extension": ".py",
   "mimetype": "text/x-python",
   "name": "python",
   "nbconvert_exporter": "python",
   "pygments_lexer": "ipython3",
   "version": "3.10.4"
  }
 },
 "nbformat": 4,
 "nbformat_minor": 5
}
